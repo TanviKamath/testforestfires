{
 "cells": [
  {
   "cell_type": "code",
   "execution_count": 19,
   "id": "2f54c87a",
   "metadata": {},
   "outputs": [],
   "source": [
    "import pandas as pd\n",
    "from sklearn.model_selection import train_test_split\n",
    "from sklearn.linear_model import LinearRegression\n",
    "from sklearn.metrics import mean_squared_error, r2_score, mean_absolute_error\n",
    "import numpy as np\n",
    "import matplotlib.pyplot as plt\n",
    "import seaborn as sns"
   ]
  },
  {
   "cell_type": "code",
   "execution_count": 20,
   "id": "2a345956",
   "metadata": {},
   "outputs": [
    {
     "name": "stdout",
     "output_type": "stream",
     "text": [
      "Requirement already satisfied: seaborn in c:\\users\\tanvi kamath\\appdata\\local\\programs\\python\\python311\\lib\\site-packages (0.13.2)\n",
      "Requirement already satisfied: numpy!=1.24.0,>=1.20 in c:\\users\\tanvi kamath\\appdata\\local\\programs\\python\\python311\\lib\\site-packages (from seaborn) (1.25.2)\n",
      "Requirement already satisfied: pandas>=1.2 in c:\\users\\tanvi kamath\\appdata\\local\\programs\\python\\python311\\lib\\site-packages (from seaborn) (2.0.3)\n",
      "Requirement already satisfied: matplotlib!=3.6.1,>=3.4 in c:\\users\\tanvi kamath\\appdata\\local\\programs\\python\\python311\\lib\\site-packages (from seaborn) (3.10.3)\n",
      "Requirement already satisfied: contourpy>=1.0.1 in c:\\users\\tanvi kamath\\appdata\\local\\programs\\python\\python311\\lib\\site-packages (from matplotlib!=3.6.1,>=3.4->seaborn) (1.3.2)\n",
      "Requirement already satisfied: cycler>=0.10 in c:\\users\\tanvi kamath\\appdata\\local\\programs\\python\\python311\\lib\\site-packages (from matplotlib!=3.6.1,>=3.4->seaborn) (0.12.1)\n",
      "Requirement already satisfied: fonttools>=4.22.0 in c:\\users\\tanvi kamath\\appdata\\local\\programs\\python\\python311\\lib\\site-packages (from matplotlib!=3.6.1,>=3.4->seaborn) (4.58.5)\n",
      "Requirement already satisfied: kiwisolver>=1.3.1 in c:\\users\\tanvi kamath\\appdata\\local\\programs\\python\\python311\\lib\\site-packages (from matplotlib!=3.6.1,>=3.4->seaborn) (1.4.8)\n",
      "Requirement already satisfied: packaging>=20.0 in c:\\users\\tanvi kamath\\appdata\\roaming\\python\\python311\\site-packages (from matplotlib!=3.6.1,>=3.4->seaborn) (25.0)\n",
      "Requirement already satisfied: pillow>=8 in c:\\users\\tanvi kamath\\appdata\\local\\programs\\python\\python311\\lib\\site-packages (from matplotlib!=3.6.1,>=3.4->seaborn) (11.3.0)\n",
      "Requirement already satisfied: pyparsing>=2.3.1 in c:\\users\\tanvi kamath\\appdata\\local\\programs\\python\\python311\\lib\\site-packages (from matplotlib!=3.6.1,>=3.4->seaborn) (3.2.3)\n",
      "Requirement already satisfied: python-dateutil>=2.7 in c:\\users\\tanvi kamath\\appdata\\local\\programs\\python\\python311\\lib\\site-packages (from matplotlib!=3.6.1,>=3.4->seaborn) (2.8.2)\n",
      "Requirement already satisfied: pytz>=2020.1 in c:\\users\\tanvi kamath\\appdata\\local\\programs\\python\\python311\\lib\\site-packages (from pandas>=1.2->seaborn) (2023.3)\n",
      "Requirement already satisfied: tzdata>=2022.1 in c:\\users\\tanvi kamath\\appdata\\local\\programs\\python\\python311\\lib\\site-packages (from pandas>=1.2->seaborn) (2023.3)\n",
      "Requirement already satisfied: six>=1.5 in c:\\users\\tanvi kamath\\appdata\\local\\programs\\python\\python311\\lib\\site-packages (from python-dateutil>=2.7->matplotlib!=3.6.1,>=3.4->seaborn) (1.16.0)\n"
     ]
    },
    {
     "name": "stderr",
     "output_type": "stream",
     "text": [
      "\n",
      "[notice] A new release of pip is available: 23.1.2 -> 25.1.1\n",
      "[notice] To update, run: python.exe -m pip install --upgrade pip\n"
     ]
    }
   ],
   "source": [
    "!\"C:\\Users\\Tanvi Kamath\\AppData\\Local\\Programs\\Python\\Python311\\python.exe\" -m pip install seaborn\n"
   ]
  },
  {
   "cell_type": "code",
   "execution_count": 21,
   "id": "6812390e",
   "metadata": {},
   "outputs": [
    {
     "name": "stdout",
     "output_type": "stream",
     "text": [
      "Name: matplotlib\n",
      "Version: 3.10.3\n",
      "Summary: Python plotting package\n",
      "Home-page: https://matplotlib.org\n",
      "Author: John D. Hunter, Michael Droettboom\n",
      "Author-email: Unknown <matplotlib-users@python.org>\n",
      "License: License agreement for matplotlib versions 1.3.0 and later\n",
      " =========================================================\n",
      "\n",
      " 1. This LICENSE AGREEMENT is between the Matplotlib Development Team\n",
      " (\"MDT\"), and the Individual or Organization (\"Licensee\") accessing and\n",
      " otherwise using matplotlib software in source or binary form and its\n",
      " associated documentation.\n",
      "\n",
      " 2. Subject to the terms and conditions of this License Agreement, MDT\n",
      " hereby grants Licensee a nonexclusive, royalty-free, world-wide license\n",
      " to reproduce, analyze, test, perform and/or display publicly, prepare\n",
      " derivative works, distribute, and otherwise use matplotlib\n",
      " alone or in any derivative version, provided, however, that MDT's\n",
      " License Agreement and MDT's notice of copyright, i.e., \"Copyright (c)\n",
      " 2012- Matplotlib Development Team; All Rights Reserved\" are retained in\n",
      " matplotlib  alone or in any derivative version prepared by\n",
      " Licensee.\n",
      "\n",
      " 3. In the event Licensee prepares a derivative work that is based on or\n",
      " incorporates matplotlib or any part thereof, and wants to\n",
      " make the derivative work available to others as provided herein, then\n",
      " Licensee hereby agrees to include in any such work a brief summary of\n",
      " the changes made to matplotlib .\n",
      "\n",
      " 4. MDT is making matplotlib available to Licensee on an \"AS\n",
      " IS\" basis.  MDT MAKES NO REPRESENTATIONS OR WARRANTIES, EXPRESS OR\n",
      " IMPLIED.  BY WAY OF EXAMPLE, BUT NOT LIMITATION, MDT MAKES NO AND\n",
      " DISCLAIMS ANY REPRESENTATION OR WARRANTY OF MERCHANTABILITY OR FITNESS\n",
      " FOR ANY PARTICULAR PURPOSE OR THAT THE USE OF MATPLOTLIB\n",
      " WILL NOT INFRINGE ANY THIRD PARTY RIGHTS.\n",
      "\n",
      " 5. MDT SHALL NOT BE LIABLE TO LICENSEE OR ANY OTHER USERS OF MATPLOTLIB\n",
      "  FOR ANY INCIDENTAL, SPECIAL, OR CONSEQUENTIAL DAMAGES OR\n",
      " LOSS AS A RESULT OF MODIFYING, DISTRIBUTING, OR OTHERWISE USING\n",
      " MATPLOTLIB , OR ANY DERIVATIVE THEREOF, EVEN IF ADVISED OF\n",
      " THE POSSIBILITY THEREOF.\n",
      "\n",
      " 6. This License Agreement will automatically terminate upon a material\n",
      " breach of its terms and conditions.\n",
      "\n",
      " 7. Nothing in this License Agreement shall be deemed to create any\n",
      " relationship of agency, partnership, or joint venture between MDT and\n",
      " Licensee.  This License Agreement does not grant permission to use MDT\n",
      " trademarks or trade name in a trademark sense to endorse or promote\n",
      " products or services of Licensee, or any third party.\n",
      "\n",
      " 8. By copying, installing or otherwise using matplotlib ,\n",
      " Licensee agrees to be bound by the terms and conditions of this License\n",
      " Agreement.\n",
      "\n",
      " License agreement for matplotlib versions prior to 1.3.0\n",
      " ========================================================\n",
      "\n",
      " 1. This LICENSE AGREEMENT is between John D. Hunter (\"JDH\"), and the\n",
      " Individual or Organization (\"Licensee\") accessing and otherwise using\n",
      " matplotlib software in source or binary form and its associated\n",
      " documentation.\n",
      "\n",
      " 2. Subject to the terms and conditions of this License Agreement, JDH\n",
      " hereby grants Licensee a nonexclusive, royalty-free, world-wide license\n",
      " to reproduce, analyze, test, perform and/or display publicly, prepare\n",
      " derivative works, distribute, and otherwise use matplotlib\n",
      " alone or in any derivative version, provided, however, that JDH's\n",
      " License Agreement and JDH's notice of copyright, i.e., \"Copyright (c)\n",
      " 2002-2011 John D. Hunter; All Rights Reserved\" are retained in\n",
      " matplotlib  alone or in any derivative version prepared by\n",
      " Licensee.\n",
      "\n",
      " 3. In the event Licensee prepares a derivative work that is based on or\n",
      " incorporates matplotlib  or any part thereof, and wants to\n",
      " make the derivative work available to others as provided herein, then\n",
      " Licensee hereby agrees to include in any such work a brief summary of\n",
      " the changes made to matplotlib.\n",
      "\n",
      " 4. JDH is making matplotlib  available to Licensee on an \"AS\n",
      " IS\" basis.  JDH MAKES NO REPRESENTATIONS OR WARRANTIES, EXPRESS OR\n",
      " IMPLIED.  BY WAY OF EXAMPLE, BUT NOT LIMITATION, JDH MAKES NO AND\n",
      " DISCLAIMS ANY REPRESENTATION OR WARRANTY OF MERCHANTABILITY OR FITNESS\n",
      " FOR ANY PARTICULAR PURPOSE OR THAT THE USE OF MATPLOTLIB\n",
      " WILL NOT INFRINGE ANY THIRD PARTY RIGHTS.\n",
      "\n",
      " 5. JDH SHALL NOT BE LIABLE TO LICENSEE OR ANY OTHER USERS OF MATPLOTLIB\n",
      "  FOR ANY INCIDENTAL, SPECIAL, OR CONSEQUENTIAL DAMAGES OR\n",
      " LOSS AS A RESULT OF MODIFYING, DISTRIBUTING, OR OTHERWISE USING\n",
      " MATPLOTLIB , OR ANY DERIVATIVE THEREOF, EVEN IF ADVISED OF\n",
      " THE POSSIBILITY THEREOF.\n",
      "\n",
      " 6. This License Agreement will automatically terminate upon a material\n",
      " breach of its terms and conditions.\n",
      "\n",
      " 7. Nothing in this License Agreement shall be deemed to create any\n",
      " relationship of agency, partnership, or joint venture between JDH and\n",
      " Licensee.  This License Agreement does not grant permission to use JDH\n",
      " trademarks or trade name in a trademark sense to endorse or promote\n",
      " products or services of Licensee, or any third party.\n",
      "\n",
      " 8. By copying, installing or otherwise using matplotlib,\n",
      " Licensee agrees to be bound by the terms and conditions of this License\n",
      " Agreement.\n",
      "Location: C:\\Users\\Tanvi Kamath\\AppData\\Local\\Programs\\Python\\Python313\\Lib\\site-packages\n",
      "Requires: contourpy, cycler, fonttools, kiwisolver, numpy, packaging, pillow, pyparsing, python-dateutil\n",
      "Required-by: seaborn\n"
     ]
    }
   ],
   "source": [
    "!pip show matplotlib\n"
   ]
  },
  {
   "cell_type": "code",
   "execution_count": 22,
   "id": "739e40ba",
   "metadata": {},
   "outputs": [
    {
     "name": "stdout",
     "output_type": "stream",
     "text": [
      "c:\\Users\\Tanvi Kamath\\AppData\\Local\\Programs\\Python\\Python311\\python.exe\n"
     ]
    }
   ],
   "source": [
    "import sys\n",
    "print(sys.executable)\n"
   ]
  },
  {
   "cell_type": "code",
   "execution_count": 23,
   "id": "eda077b7",
   "metadata": {},
   "outputs": [
    {
     "name": "stdout",
     "output_type": "stream",
     "text": [
      "Requirement already satisfied: matplotlib in c:\\users\\tanvi kamath\\appdata\\local\\programs\\python\\python311\\lib\\site-packages (3.10.3)\n",
      "Requirement already satisfied: contourpy>=1.0.1 in c:\\users\\tanvi kamath\\appdata\\local\\programs\\python\\python311\\lib\\site-packages (from matplotlib) (1.3.2)\n",
      "Requirement already satisfied: cycler>=0.10 in c:\\users\\tanvi kamath\\appdata\\local\\programs\\python\\python311\\lib\\site-packages (from matplotlib) (0.12.1)\n",
      "Requirement already satisfied: fonttools>=4.22.0 in c:\\users\\tanvi kamath\\appdata\\local\\programs\\python\\python311\\lib\\site-packages (from matplotlib) (4.58.5)\n",
      "Requirement already satisfied: kiwisolver>=1.3.1 in c:\\users\\tanvi kamath\\appdata\\local\\programs\\python\\python311\\lib\\site-packages (from matplotlib) (1.4.8)\n",
      "Requirement already satisfied: numpy>=1.23 in c:\\users\\tanvi kamath\\appdata\\local\\programs\\python\\python311\\lib\\site-packages (from matplotlib) (1.25.2)\n",
      "Requirement already satisfied: packaging>=20.0 in c:\\users\\tanvi kamath\\appdata\\roaming\\python\\python311\\site-packages (from matplotlib) (25.0)\n",
      "Requirement already satisfied: pillow>=8 in c:\\users\\tanvi kamath\\appdata\\local\\programs\\python\\python311\\lib\\site-packages (from matplotlib) (11.3.0)\n",
      "Requirement already satisfied: pyparsing>=2.3.1 in c:\\users\\tanvi kamath\\appdata\\local\\programs\\python\\python311\\lib\\site-packages (from matplotlib) (3.2.3)\n",
      "Requirement already satisfied: python-dateutil>=2.7 in c:\\users\\tanvi kamath\\appdata\\local\\programs\\python\\python311\\lib\\site-packages (from matplotlib) (2.8.2)\n",
      "Requirement already satisfied: six>=1.5 in c:\\users\\tanvi kamath\\appdata\\local\\programs\\python\\python311\\lib\\site-packages (from python-dateutil>=2.7->matplotlib) (1.16.0)\n"
     ]
    },
    {
     "name": "stderr",
     "output_type": "stream",
     "text": [
      "\n",
      "[notice] A new release of pip is available: 23.1.2 -> 25.1.1\n",
      "[notice] To update, run: python.exe -m pip install --upgrade pip\n"
     ]
    }
   ],
   "source": [
    "! \"C:/Users/Tanvi Kamath/AppData/Local/Programs/Python/Python311/python.exe\" -m pip install matplotlib\n"
   ]
  },
  {
   "cell_type": "code",
   "execution_count": 24,
   "id": "369125fb",
   "metadata": {},
   "outputs": [],
   "source": [
    "df = pd.read_csv('Algerian_forest_fires_dataset_UPDATE_cleaned.csv')"
   ]
  },
  {
   "cell_type": "code",
   "execution_count": 25,
   "id": "fa3a53d4",
   "metadata": {},
   "outputs": [
    {
     "name": "stdout",
     "output_type": "stream",
     "text": [
      "Requirement already satisfied: matplotlib in c:\\users\\tanvi kamath\\appdata\\local\\programs\\python\\python313\\lib\\site-packages (3.10.3)\n",
      "Requirement already satisfied: contourpy>=1.0.1 in c:\\users\\tanvi kamath\\appdata\\local\\programs\\python\\python313\\lib\\site-packages (from matplotlib) (1.3.2)\n",
      "Requirement already satisfied: cycler>=0.10 in c:\\users\\tanvi kamath\\appdata\\local\\programs\\python\\python313\\lib\\site-packages (from matplotlib) (0.12.1)\n",
      "Requirement already satisfied: fonttools>=4.22.0 in c:\\users\\tanvi kamath\\appdata\\local\\programs\\python\\python313\\lib\\site-packages (from matplotlib) (4.58.5)\n",
      "Requirement already satisfied: kiwisolver>=1.3.1 in c:\\users\\tanvi kamath\\appdata\\local\\programs\\python\\python313\\lib\\site-packages (from matplotlib) (1.4.8)\n",
      "Requirement already satisfied: numpy>=1.23 in c:\\users\\tanvi kamath\\appdata\\local\\programs\\python\\python313\\lib\\site-packages (from matplotlib) (2.3.1)\n",
      "Requirement already satisfied: packaging>=20.0 in c:\\users\\tanvi kamath\\appdata\\local\\programs\\python\\python313\\lib\\site-packages (from matplotlib) (25.0)\n",
      "Requirement already satisfied: pillow>=8 in c:\\users\\tanvi kamath\\appdata\\local\\programs\\python\\python313\\lib\\site-packages (from matplotlib) (11.3.0)\n",
      "Requirement already satisfied: pyparsing>=2.3.1 in c:\\users\\tanvi kamath\\appdata\\local\\programs\\python\\python313\\lib\\site-packages (from matplotlib) (3.2.3)\n",
      "Requirement already satisfied: python-dateutil>=2.7 in c:\\users\\tanvi kamath\\appdata\\local\\programs\\python\\python313\\lib\\site-packages (from matplotlib) (2.9.0.post0)\n",
      "Requirement already satisfied: six>=1.5 in c:\\users\\tanvi kamath\\appdata\\local\\programs\\python\\python313\\lib\\site-packages (from python-dateutil>=2.7->matplotlib) (1.17.0)\n"
     ]
    }
   ],
   "source": [
    "!pip install matplotlib"
   ]
  },
  {
   "cell_type": "code",
   "execution_count": 26,
   "id": "2272d279",
   "metadata": {},
   "outputs": [],
   "source": [
    "df.drop(['day','month','year'],axis=1,inplace=True)"
   ]
  },
  {
   "cell_type": "code",
   "execution_count": 27,
   "id": "b50166b5",
   "metadata": {},
   "outputs": [
    {
     "data": {
      "text/html": [
       "<div>\n",
       "<style scoped>\n",
       "    .dataframe tbody tr th:only-of-type {\n",
       "        vertical-align: middle;\n",
       "    }\n",
       "\n",
       "    .dataframe tbody tr th {\n",
       "        vertical-align: top;\n",
       "    }\n",
       "\n",
       "    .dataframe thead th {\n",
       "        text-align: right;\n",
       "    }\n",
       "</style>\n",
       "<table border=\"1\" class=\"dataframe\">\n",
       "  <thead>\n",
       "    <tr style=\"text-align: right;\">\n",
       "      <th></th>\n",
       "      <th>Temperature</th>\n",
       "      <th>RH</th>\n",
       "      <th>Ws</th>\n",
       "      <th>Rain</th>\n",
       "      <th>FFMC</th>\n",
       "      <th>DMC</th>\n",
       "      <th>DC</th>\n",
       "      <th>ISI</th>\n",
       "      <th>BUI</th>\n",
       "      <th>FWI</th>\n",
       "      <th>Classes</th>\n",
       "    </tr>\n",
       "  </thead>\n",
       "  <tbody>\n",
       "    <tr>\n",
       "      <th>0</th>\n",
       "      <td>29</td>\n",
       "      <td>57</td>\n",
       "      <td>18</td>\n",
       "      <td>0.0</td>\n",
       "      <td>65.7</td>\n",
       "      <td>3.4</td>\n",
       "      <td>7.6</td>\n",
       "      <td>1.3</td>\n",
       "      <td>3.4</td>\n",
       "      <td>0.5</td>\n",
       "      <td>not fire</td>\n",
       "    </tr>\n",
       "    <tr>\n",
       "      <th>1</th>\n",
       "      <td>29</td>\n",
       "      <td>61</td>\n",
       "      <td>13</td>\n",
       "      <td>1.3</td>\n",
       "      <td>64.4</td>\n",
       "      <td>4.1</td>\n",
       "      <td>7.6</td>\n",
       "      <td>1.0</td>\n",
       "      <td>3.9</td>\n",
       "      <td>0.4</td>\n",
       "      <td>not fire</td>\n",
       "    </tr>\n",
       "    <tr>\n",
       "      <th>2</th>\n",
       "      <td>26</td>\n",
       "      <td>82</td>\n",
       "      <td>22</td>\n",
       "      <td>13.1</td>\n",
       "      <td>47.1</td>\n",
       "      <td>2.5</td>\n",
       "      <td>7.1</td>\n",
       "      <td>0.3</td>\n",
       "      <td>2.7</td>\n",
       "      <td>0.1</td>\n",
       "      <td>not fire</td>\n",
       "    </tr>\n",
       "    <tr>\n",
       "      <th>3</th>\n",
       "      <td>25</td>\n",
       "      <td>89</td>\n",
       "      <td>13</td>\n",
       "      <td>2.5</td>\n",
       "      <td>28.6</td>\n",
       "      <td>1.3</td>\n",
       "      <td>6.9</td>\n",
       "      <td>0.0</td>\n",
       "      <td>1.7</td>\n",
       "      <td>0.0</td>\n",
       "      <td>not fire</td>\n",
       "    </tr>\n",
       "    <tr>\n",
       "      <th>4</th>\n",
       "      <td>27</td>\n",
       "      <td>77</td>\n",
       "      <td>16</td>\n",
       "      <td>0.0</td>\n",
       "      <td>64.8</td>\n",
       "      <td>3.0</td>\n",
       "      <td>14.2</td>\n",
       "      <td>1.2</td>\n",
       "      <td>3.9</td>\n",
       "      <td>0.5</td>\n",
       "      <td>not fire</td>\n",
       "    </tr>\n",
       "  </tbody>\n",
       "</table>\n",
       "</div>"
      ],
      "text/plain": [
       "   Temperature  RH  Ws  Rain  FFMC  DMC    DC  ISI  BUI  FWI      Classes\n",
       "0           29  57  18   0.0  65.7  3.4   7.6  1.3  3.4  0.5  not fire   \n",
       "1           29  61  13   1.3  64.4  4.1   7.6  1.0  3.9  0.4  not fire   \n",
       "2           26  82  22  13.1  47.1  2.5   7.1  0.3  2.7  0.1  not fire   \n",
       "3           25  89  13   2.5  28.6  1.3   6.9  0.0  1.7  0.0  not fire   \n",
       "4           27  77  16   0.0  64.8  3.0  14.2  1.2  3.9  0.5  not fire   "
      ]
     },
     "execution_count": 27,
     "metadata": {},
     "output_type": "execute_result"
    }
   ],
   "source": [
    "df.head()"
   ]
  },
  {
   "cell_type": "code",
   "execution_count": 28,
   "id": "8e01f1e8",
   "metadata": {},
   "outputs": [
    {
     "data": {
      "text/plain": [
       "Classes\n",
       "fire             131\n",
       "not fire         101\n",
       "fire               4\n",
       "fire               2\n",
       "not fire           2\n",
       "not fire           1\n",
       "not fire           1\n",
       "not fire           1\n",
       "Name: count, dtype: int64"
      ]
     },
     "execution_count": 28,
     "metadata": {},
     "output_type": "execute_result"
    }
   ],
   "source": [
    "df['Classes'].value_counts()"
   ]
  },
  {
   "cell_type": "code",
   "execution_count": 29,
   "id": "ed5d4f28",
   "metadata": {},
   "outputs": [],
   "source": [
    "df['Classes']=np.where(df['Classes'].str.contains(\"not fire\"),0,1)"
   ]
  },
  {
   "cell_type": "code",
   "execution_count": 30,
   "id": "0847fbdf",
   "metadata": {},
   "outputs": [],
   "source": [
    "x = df.drop('FWI',axis=1)\n",
    "y = df['FWI']"
   ]
  },
  {
   "cell_type": "code",
   "execution_count": 31,
   "id": "dab8e991",
   "metadata": {},
   "outputs": [],
   "source": [
    "from sklearn.model_selection import train_test_split\n",
    "x_train, x_test, y_train, y_test = train_test_split(x, y, test_size=0.2, random_state=42)"
   ]
  },
  {
   "cell_type": "code",
   "execution_count": 32,
   "id": "1af6ca3c",
   "metadata": {},
   "outputs": [
    {
     "data": {
      "text/plain": [
       "((194, 10), (49, 10), (194,), (49,))"
      ]
     },
     "execution_count": 32,
     "metadata": {},
     "output_type": "execute_result"
    }
   ],
   "source": [
    "x_train.shape, x_test.shape, y_train.shape, y_test.shape"
   ]
  },
  {
   "cell_type": "code",
   "execution_count": 33,
   "id": "342173ed",
   "metadata": {},
   "outputs": [
    {
     "data": {
      "text/html": [
       "<div>\n",
       "<style scoped>\n",
       "    .dataframe tbody tr th:only-of-type {\n",
       "        vertical-align: middle;\n",
       "    }\n",
       "\n",
       "    .dataframe tbody tr th {\n",
       "        vertical-align: top;\n",
       "    }\n",
       "\n",
       "    .dataframe thead th {\n",
       "        text-align: right;\n",
       "    }\n",
       "</style>\n",
       "<table border=\"1\" class=\"dataframe\">\n",
       "  <thead>\n",
       "    <tr style=\"text-align: right;\">\n",
       "      <th></th>\n",
       "      <th>Temperature</th>\n",
       "      <th>RH</th>\n",
       "      <th>Ws</th>\n",
       "      <th>Rain</th>\n",
       "      <th>FFMC</th>\n",
       "      <th>DMC</th>\n",
       "      <th>DC</th>\n",
       "      <th>ISI</th>\n",
       "      <th>BUI</th>\n",
       "      <th>Classes</th>\n",
       "    </tr>\n",
       "  </thead>\n",
       "  <tbody>\n",
       "    <tr>\n",
       "      <th>Temperature</th>\n",
       "      <td>1.000000</td>\n",
       "      <td>-0.653725</td>\n",
       "      <td>-0.308149</td>\n",
       "      <td>-0.313112</td>\n",
       "      <td>0.690285</td>\n",
       "      <td>0.468911</td>\n",
       "      <td>0.372163</td>\n",
       "      <td>0.613138</td>\n",
       "      <td>0.446280</td>\n",
       "      <td>0.539642</td>\n",
       "    </tr>\n",
       "    <tr>\n",
       "      <th>RH</th>\n",
       "      <td>-0.653725</td>\n",
       "      <td>1.000000</td>\n",
       "      <td>0.211645</td>\n",
       "      <td>0.239441</td>\n",
       "      <td>-0.649239</td>\n",
       "      <td>-0.401836</td>\n",
       "      <td>-0.220945</td>\n",
       "      <td>-0.714640</td>\n",
       "      <td>-0.346511</td>\n",
       "      <td>-0.454926</td>\n",
       "    </tr>\n",
       "    <tr>\n",
       "      <th>Ws</th>\n",
       "      <td>-0.308149</td>\n",
       "      <td>0.211645</td>\n",
       "      <td>1.000000</td>\n",
       "      <td>0.235922</td>\n",
       "      <td>-0.176596</td>\n",
       "      <td>0.004712</td>\n",
       "      <td>0.092866</td>\n",
       "      <td>-0.002300</td>\n",
       "      <td>0.037465</td>\n",
       "      <td>-0.075322</td>\n",
       "    </tr>\n",
       "    <tr>\n",
       "      <th>Rain</th>\n",
       "      <td>-0.313112</td>\n",
       "      <td>0.239441</td>\n",
       "      <td>0.235922</td>\n",
       "      <td>1.000000</td>\n",
       "      <td>-0.547864</td>\n",
       "      <td>-0.288538</td>\n",
       "      <td>-0.301110</td>\n",
       "      <td>-0.349903</td>\n",
       "      <td>-0.299179</td>\n",
       "      <td>-0.378585</td>\n",
       "    </tr>\n",
       "    <tr>\n",
       "      <th>FFMC</th>\n",
       "      <td>0.690285</td>\n",
       "      <td>-0.649239</td>\n",
       "      <td>-0.176596</td>\n",
       "      <td>-0.547864</td>\n",
       "      <td>1.000000</td>\n",
       "      <td>0.611978</td>\n",
       "      <td>0.519513</td>\n",
       "      <td>0.751819</td>\n",
       "      <td>0.598248</td>\n",
       "      <td>0.786012</td>\n",
       "    </tr>\n",
       "    <tr>\n",
       "      <th>DMC</th>\n",
       "      <td>0.468911</td>\n",
       "      <td>-0.401836</td>\n",
       "      <td>0.004712</td>\n",
       "      <td>-0.288538</td>\n",
       "      <td>0.611978</td>\n",
       "      <td>1.000000</td>\n",
       "      <td>0.876122</td>\n",
       "      <td>0.679049</td>\n",
       "      <td>0.983891</td>\n",
       "      <td>0.606775</td>\n",
       "    </tr>\n",
       "    <tr>\n",
       "      <th>DC</th>\n",
       "      <td>0.372163</td>\n",
       "      <td>-0.220945</td>\n",
       "      <td>0.092866</td>\n",
       "      <td>-0.301110</td>\n",
       "      <td>0.519513</td>\n",
       "      <td>0.876122</td>\n",
       "      <td>1.000000</td>\n",
       "      <td>0.512934</td>\n",
       "      <td>0.946181</td>\n",
       "      <td>0.538893</td>\n",
       "    </tr>\n",
       "    <tr>\n",
       "      <th>ISI</th>\n",
       "      <td>0.613138</td>\n",
       "      <td>-0.714640</td>\n",
       "      <td>-0.002300</td>\n",
       "      <td>-0.349903</td>\n",
       "      <td>0.751819</td>\n",
       "      <td>0.679049</td>\n",
       "      <td>0.512934</td>\n",
       "      <td>1.000000</td>\n",
       "      <td>0.637669</td>\n",
       "      <td>0.740072</td>\n",
       "    </tr>\n",
       "    <tr>\n",
       "      <th>BUI</th>\n",
       "      <td>0.446280</td>\n",
       "      <td>-0.346511</td>\n",
       "      <td>0.037465</td>\n",
       "      <td>-0.299179</td>\n",
       "      <td>0.598248</td>\n",
       "      <td>0.983891</td>\n",
       "      <td>0.946181</td>\n",
       "      <td>0.637669</td>\n",
       "      <td>1.000000</td>\n",
       "      <td>0.602102</td>\n",
       "    </tr>\n",
       "    <tr>\n",
       "      <th>Classes</th>\n",
       "      <td>0.539642</td>\n",
       "      <td>-0.454926</td>\n",
       "      <td>-0.075322</td>\n",
       "      <td>-0.378585</td>\n",
       "      <td>0.786012</td>\n",
       "      <td>0.606775</td>\n",
       "      <td>0.538893</td>\n",
       "      <td>0.740072</td>\n",
       "      <td>0.602102</td>\n",
       "      <td>1.000000</td>\n",
       "    </tr>\n",
       "  </tbody>\n",
       "</table>\n",
       "</div>"
      ],
      "text/plain": [
       "             Temperature        RH        Ws      Rain      FFMC       DMC  \\\n",
       "Temperature     1.000000 -0.653725 -0.308149 -0.313112  0.690285  0.468911   \n",
       "RH             -0.653725  1.000000  0.211645  0.239441 -0.649239 -0.401836   \n",
       "Ws             -0.308149  0.211645  1.000000  0.235922 -0.176596  0.004712   \n",
       "Rain           -0.313112  0.239441  0.235922  1.000000 -0.547864 -0.288538   \n",
       "FFMC            0.690285 -0.649239 -0.176596 -0.547864  1.000000  0.611978   \n",
       "DMC             0.468911 -0.401836  0.004712 -0.288538  0.611978  1.000000   \n",
       "DC              0.372163 -0.220945  0.092866 -0.301110  0.519513  0.876122   \n",
       "ISI             0.613138 -0.714640 -0.002300 -0.349903  0.751819  0.679049   \n",
       "BUI             0.446280 -0.346511  0.037465 -0.299179  0.598248  0.983891   \n",
       "Classes         0.539642 -0.454926 -0.075322 -0.378585  0.786012  0.606775   \n",
       "\n",
       "                   DC       ISI       BUI   Classes  \n",
       "Temperature  0.372163  0.613138  0.446280  0.539642  \n",
       "RH          -0.220945 -0.714640 -0.346511 -0.454926  \n",
       "Ws           0.092866 -0.002300  0.037465 -0.075322  \n",
       "Rain        -0.301110 -0.349903 -0.299179 -0.378585  \n",
       "FFMC         0.519513  0.751819  0.598248  0.786012  \n",
       "DMC          0.876122  0.679049  0.983891  0.606775  \n",
       "DC           1.000000  0.512934  0.946181  0.538893  \n",
       "ISI          0.512934  1.000000  0.637669  0.740072  \n",
       "BUI          0.946181  0.637669  1.000000  0.602102  \n",
       "Classes      0.538893  0.740072  0.602102  1.000000  "
      ]
     },
     "execution_count": 33,
     "metadata": {},
     "output_type": "execute_result"
    }
   ],
   "source": [
    "x_train.corr()"
   ]
  },
  {
   "cell_type": "code",
   "execution_count": 34,
   "id": "83450b06",
   "metadata": {},
   "outputs": [
    {
     "data": {
      "text/plain": [
       "<Axes: >"
      ]
     },
     "execution_count": 34,
     "metadata": {},
     "output_type": "execute_result"
    },
    {
     "data": {
      "image/png": "[encoded data removed]",
      "text/plain": [
       "<Figure size 640x480 with 2 Axes>"
      ]
     },
     "metadata": {},
     "output_type": "display_data"
    }
   ],
   "source": [
    "sns.heatmap(x_train.corr(), annot=True)"
   ]
  },
  {
   "cell_type": "code",
   "execution_count": 35,
   "id": "69cb6a28",
   "metadata": {},
   "outputs": [],
   "source": [
    "def correlation(dataset,threshold):\n",
    "    col_corr = set()\n",
    "    corr_matrix = dataset.corr()\n",
    "    for i in range(len(corr_matrix.columns)):\n",
    "        for j in range(i):  \n",
    "            if abs(corr_matrix.iloc[i,j]) > threshold:\n",
    "                colname = corr_matrix.columns[i]  \n",
    "                col_corr.add(colname)\n",
    "    return col_corr"
   ]
  },
  {
   "cell_type": "code",
   "execution_count": 36,
   "id": "5bb231d9",
   "metadata": {},
   "outputs": [],
   "source": [
    "corr_features = correlation(x_train,0.85)"
   ]
  },
  {
   "cell_type": "code",
   "execution_count": 37,
   "id": "70e014ae",
   "metadata": {},
   "outputs": [
    {
     "data": {
      "text/plain": [
       "{'BUI', 'DC'}"
      ]
     },
     "execution_count": 37,
     "metadata": {},
     "output_type": "execute_result"
    }
   ],
   "source": [
    "corr_features"
   ]
  },
  {
   "cell_type": "code",
   "execution_count": 38,
   "id": "48b19461",
   "metadata": {},
   "outputs": [
    {
     "data": {
      "text/plain": [
       "((194, 8), (49, 8))"
      ]
     },
     "execution_count": 38,
     "metadata": {},
     "output_type": "execute_result"
    }
   ],
   "source": [
    "x_train.drop(corr_features,axis=1,inplace=True)\n",
    "x_test.drop(corr_features,axis=1,inplace=True)\n",
    "x_train.shape, x_test.shape"
   ]
  },
  {
   "cell_type": "code",
   "execution_count": 39,
   "id": "0f37abd7",
   "metadata": {},
   "outputs": [],
   "source": [
    "from sklearn.preprocessing import StandardScaler\n",
    "scaler = StandardScaler()\n",
    "x_train_scaled = scaler.fit_transform(x_train)\n",
    "x_test_scaled = scaler.transform(x_test)"
   ]
  },
  {
   "cell_type": "code",
   "execution_count": 40,
   "id": "9895399e",
   "metadata": {},
   "outputs": [
    {
     "name": "stdout",
     "output_type": "stream",
     "text": [
      "Mean Squared Error: 0.6973545616016176\n",
      "R-squared: 0.9769913929101306\n",
      "Mean Absolute Error: 0.5117893923448024\n"
     ]
    },
    {
     "data": {
      "text/plain": [
       "<matplotlib.collections.PathCollection at 0x20ff5b5cf50>"
      ]
     },
     "execution_count": 40,
     "metadata": {},
     "output_type": "execute_result"
    },
    {
     "data": {
      "image/png": "[encoded data removed]",
      "text/plain": [
       "<Figure size 640x480 with 1 Axes>"
      ]
     },
     "metadata": {},
     "output_type": "display_data"
    }
   ],
   "source": [
    "linreg = LinearRegression()\n",
    "linreg.fit(x_train_scaled, y_train)\n",
    "y_pred = linreg.predict(x_test_scaled)\n",
    "print(\"Mean Squared Error:\", mean_squared_error(y_test, y_pred))\n",
    "print(\"R-squared:\", r2_score(y_test, y_pred))\n",
    "print(\"Mean Absolute Error:\", mean_absolute_error(y_test, y_pred))\n",
    "plt.scatter(y_test, y_pred)"
   ]
  },
  {
   "cell_type": "code",
   "execution_count": 41,
   "id": "bd9c66c7",
   "metadata": {},
   "outputs": [
    {
     "name": "stdout",
     "output_type": "stream",
     "text": [
      "Lasso Mean Squared Error: 1.7260423250231411\n",
      "Lasso R-squared: 0.9430507350726564\n"
     ]
    },
    {
     "data": {
      "text/plain": [
       "<matplotlib.collections.PathCollection at 0x20ff5b18f50>"
      ]
     },
     "execution_count": 41,
     "metadata": {},
     "output_type": "execute_result"
    },
    {
     "data": {
      "image/png": "[encoded data removed]",
      "text/plain": [
       "<Figure size 640x480 with 1 Axes>"
      ]
     },
     "metadata": {},
     "output_type": "display_data"
    }
   ],
   "source": [
    "from sklearn.linear_model import Lasso, Ridge\n",
    "lasso = Lasso()\n",
    "lasso.fit(x_train_scaled, y_train)\n",
    "y_pred_lasso = lasso.predict(x_test_scaled)\n",
    "print(\"Lasso Mean Squared Error:\", mean_squared_error(y_test, y_pred_lasso))\n",
    "print(\"Lasso R-squared:\", r2_score(y_test, y_pred_lasso))\n",
    "plt.scatter(y_test, y_pred_lasso)"
   ]
  },
  {
   "cell_type": "code",
   "execution_count": 42,
   "id": "1459e416",
   "metadata": {},
   "outputs": [
    {
     "name": "stdout",
     "output_type": "stream",
     "text": [
      "Ridge Mean Squared Error: 0.7132839611442701\n",
      "Ridge R-squared: 0.976465816230152\n"
     ]
    },
    {
     "data": {
      "text/plain": [
       "<matplotlib.collections.PathCollection at 0x20ff5a2c490>"
      ]
     },
     "execution_count": 42,
     "metadata": {},
     "output_type": "execute_result"
    },
    {
     "data": {
      "image/png": "[encoded data removed]",
      "text/plain": [
       "<Figure size 640x480 with 1 Axes>"
      ]
     },
     "metadata": {},
     "output_type": "display_data"
    }
   ],
   "source": [
    "from sklearn.linear_model import Ridge\n",
    "ridge = Ridge()\n",
    "ridge.fit(x_train_scaled, y_train)\n",
    "y_pred_ridge = ridge.predict(x_test_scaled)\n",
    "print(\"Ridge Mean Squared Error:\", mean_squared_error(y_test, y_pred_ridge))\n",
    "print(\"Ridge R-squared:\", r2_score(y_test, y_pred_ridge))   \n",
    "plt.scatter(y_test, y_pred_ridge)"
   ]
  },
  {
   "cell_type": "code",
   "execution_count": 43,
   "id": "9cccb85e",
   "metadata": {},
   "outputs": [
    {
     "data": {
      "text/html": [
       "<style>#sk-container-id-1 {color: black;}#sk-container-id-1 pre{padding: 0;}#sk-container-id-1 div.sk-toggleable {background-color: white;}#sk-container-id-1 label.sk-toggleable__label {cursor: pointer;display: block;width: 100%;margin-bottom: 0;padding: 0.3em;box-sizing: border-box;text-align: center;}#sk-container-id-1 label.sk-toggleable__label-arrow:before {content: \"▸\";float: left;margin-right: 0.25em;color: #696969;}#sk-container-id-1 label.sk-toggleable__label-arrow:hover:before {color: black;}#sk-container-id-1 div.sk-estimator:hover label.sk-toggleable__label-arrow:before {color: black;}#sk-container-id-1 div.sk-toggleable__content {max-height: 0;max-width: 0;overflow: hidden;text-align: left;background-color: #f0f8ff;}#sk-container-id-1 div.sk-toggleable__content pre {margin: 0.2em;color: black;border-radius: 0.25em;background-color: #f0f8ff;}#sk-container-id-1 input.sk-toggleable__control:checked~div.sk-toggleable__content {max-height: 200px;max-width: 100%;overflow: auto;}#sk-container-id-1 input.sk-toggleable__control:checked~label.sk-toggleable__label-arrow:before {content: \"▾\";}#sk-container-id-1 div.sk-estimator input.sk-toggleable__control:checked~label.sk-toggleable__label {background-color: #d4ebff;}#sk-container-id-1 div.sk-label input.sk-toggleable__control:checked~label.sk-toggleable__label {background-color: #d4ebff;}#sk-container-id-1 input.sk-hidden--visually {border: 0;clip: rect(1px 1px 1px 1px);clip: rect(1px, 1px, 1px, 1px);height: 1px;margin: -1px;overflow: hidden;padding: 0;position: absolute;width: 1px;}#sk-container-id-1 div.sk-estimator {font-family: monospace;background-color: #f0f8ff;border: 1px dotted black;border-radius: 0.25em;box-sizing: border-box;margin-bottom: 0.5em;}#sk-container-id-1 div.sk-estimator:hover {background-color: #d4ebff;}#sk-container-id-1 div.sk-parallel-item::after {content: \"\";width: 100%;border-bottom: 1px solid gray;flex-grow: 1;}#sk-container-id-1 div.sk-label:hover label.sk-toggleable__label {background-color: #d4ebff;}#sk-container-id-1 div.sk-serial::before {content: \"\";position: absolute;border-left: 1px solid gray;box-sizing: border-box;top: 0;bottom: 0;left: 50%;z-index: 0;}#sk-container-id-1 div.sk-serial {display: flex;flex-direction: column;align-items: center;background-color: white;padding-right: 0.2em;padding-left: 0.2em;position: relative;}#sk-container-id-1 div.sk-item {position: relative;z-index: 1;}#sk-container-id-1 div.sk-parallel {display: flex;align-items: stretch;justify-content: center;background-color: white;position: relative;}#sk-container-id-1 div.sk-item::before, #sk-container-id-1 div.sk-parallel-item::before {content: \"\";position: absolute;border-left: 1px solid gray;box-sizing: border-box;top: 0;bottom: 0;left: 50%;z-index: -1;}#sk-container-id-1 div.sk-parallel-item {display: flex;flex-direction: column;z-index: 1;position: relative;background-color: white;}#sk-container-id-1 div.sk-parallel-item:first-child::after {align-self: flex-end;width: 50%;}#sk-container-id-1 div.sk-parallel-item:last-child::after {align-self: flex-start;width: 50%;}#sk-container-id-1 div.sk-parallel-item:only-child::after {width: 0;}#sk-container-id-1 div.sk-dashed-wrapped {border: 1px dashed gray;margin: 0 0.4em 0.5em 0.4em;box-sizing: border-box;padding-bottom: 0.4em;background-color: white;}#sk-container-id-1 div.sk-label label {font-family: monospace;font-weight: bold;display: inline-block;line-height: 1.2em;}#sk-container-id-1 div.sk-label-container {text-align: center;}#sk-container-id-1 div.sk-container {/* jupyter's `normalize.less` sets `[hidden] { display: none; }` but bootstrap.min.css set `[hidden] { display: none !important; }` so we also need the `!important` here to be able to override the default hidden behavior on the sphinx rendered scikit-learn.org. See: https://github.com/scikit-learn/scikit-learn/issues/21755 */display: inline-block !important;position: relative;}#sk-container-id-1 div.sk-text-repr-fallback {display: none;}</style><div id=\"sk-container-id-1\" class=\"sk-top-container\"><div class=\"sk-text-repr-fallback\"><pre>LassoCV(cv=5)</pre><b>In a Jupyter environment, please rerun this cell to show the HTML representation or trust the notebook. <br />On GitHub, the HTML representation is unable to render, please try loading this page with nbviewer.org.</b></div><div class=\"sk-container\" hidden><div class=\"sk-item\"><div class=\"sk-estimator sk-toggleable\"><input class=\"sk-toggleable__control sk-hidden--visually\" id=\"sk-estimator-id-1\" type=\"checkbox\" checked><label for=\"sk-estimator-id-1\" class=\"sk-toggleable__label sk-toggleable__label-arrow\">LassoCV</label><div class=\"sk-toggleable__content\"><pre>LassoCV(cv=5)</pre></div></div></div></div></div>"
      ],
      "text/plain": [
       "LassoCV(cv=5)"
      ]
     },
     "execution_count": 43,
     "metadata": {},
     "output_type": "execute_result"
    }
   ],
   "source": [
    "from sklearn.linear_model import LassoCV\n",
    "lasso_cv = LassoCV(cv=5)\n",
    "lasso_cv.fit(x_train_scaled, y_train)"
   ]
  },
  {
   "cell_type": "code",
   "execution_count": 44,
   "id": "27401743",
   "metadata": {},
   "outputs": [
    {
     "data": {
      "text/plain": [
       "array([7.1563667 , 6.67405153, 6.2242428 , 5.80474966, 5.41352896,\n",
       "       5.04867523, 4.70841142, 4.39108025, 4.09513613, 3.81913766,\n",
       "       3.56174057, 3.32169117, 3.09782031, 2.88903759, 2.69432612,\n",
       "       2.51273756, 2.34338746, 2.18545099, 2.0381589 , 1.90079382,\n",
       "       1.77268667, 1.65321353, 1.54179247, 1.43788081, 1.34097246,\n",
       "       1.2505954 , 1.16630946, 1.08770411, 1.01439649, 0.94602956,\n",
       "       0.88227033, 0.82280827, 0.76735374, 0.71563667, 0.66740515,\n",
       "       0.62242428, 0.58047497, 0.5413529 , 0.50486752, 0.47084114,\n",
       "       0.43910802, 0.40951361, 0.38191377, 0.35617406, 0.33216912,\n",
       "       0.30978203, 0.28890376, 0.26943261, 0.25127376, 0.23433875,\n",
       "       0.2185451 , 0.20381589, 0.19007938, 0.17726867, 0.16532135,\n",
       "       0.15417925, 0.14378808, 0.13409725, 0.12505954, 0.11663095,\n",
       "       0.10877041, 0.10143965, 0.09460296, 0.08822703, 0.08228083,\n",
       "       0.07673537, 0.07156367, 0.06674052, 0.06224243, 0.0580475 ,\n",
       "       0.05413529, 0.05048675, 0.04708411, 0.0439108 , 0.04095136,\n",
       "       0.03819138, 0.03561741, 0.03321691, 0.0309782 , 0.02889038,\n",
       "       0.02694326, 0.02512738, 0.02343387, 0.02185451, 0.02038159,\n",
       "       0.01900794, 0.01772687, 0.01653214, 0.01541792, 0.01437881,\n",
       "       0.01340972, 0.01250595, 0.01166309, 0.01087704, 0.01014396,\n",
       "       0.0094603 , 0.0088227 , 0.00822808, 0.00767354, 0.00715637])"
      ]
     },
     "execution_count": 44,
     "metadata": {},
     "output_type": "execute_result"
    }
   ],
   "source": [
    "lasso_cv.alphas_"
   ]
  },
  {
   "cell_type": "code",
   "execution_count": 45,
   "id": "20524ad5",
   "metadata": {},
   "outputs": [
    {
     "name": "stdout",
     "output_type": "stream",
     "text": [
      "LassoCV Mean Squared Error: 0.8329297185058134\n",
      "LassoCV R-squared: 0.9725182085529627\n"
     ]
    },
    {
     "data": {
      "text/plain": [
       "<matplotlib.collections.PathCollection at 0x20ff59596d0>"
      ]
     },
     "execution_count": 45,
     "metadata": {},
     "output_type": "execute_result"
    },
    {
     "data": {
      "image/png": "[encoded data removed]",
      "text/plain": [
       "<Figure size 640x480 with 1 Axes>"
      ]
     },
     "metadata": {},
     "output_type": "display_data"
    }
   ],
   "source": [
    "y_pred_lasso_cv = lasso_cv.predict(x_test_scaled)\n",
    "print(\"LassoCV Mean Squared Error:\", mean_squared_error(y_test, y_pred_lasso_cv))\n",
    "print(\"LassoCV R-squared:\", r2_score(y_test, y_pred_lasso_cv))\n",
    "plt.scatter(y_test, y_pred_lasso_cv)"
   ]
  },
  {
   "cell_type": "code",
   "execution_count": 46,
   "id": "e8ed877e",
   "metadata": {},
   "outputs": [
    {
     "name": "stdout",
     "output_type": "stream",
     "text": [
      "RidgeCV Mean Squared Error: 0.9580732275173655\n",
      "RidgeCV R-squared: 0.9683892073429021\n"
     ]
    },
    {
     "data": {
      "text/plain": [
       "<matplotlib.collections.PathCollection at 0x20ff7cc7dd0>"
      ]
     },
     "execution_count": 46,
     "metadata": {},
     "output_type": "execute_result"
    },
    {
     "data": {
      "image/png": "[encoded data removed]",
      "text/plain": [
       "<Figure size 640x480 with 1 Axes>"
      ]
     },
     "metadata": {},
     "output_type": "display_data"
    }
   ],
   "source": [
    "from sklearn.linear_model import RidgeCV\n",
    "ridge_cv = RidgeCV(cv=5)\n",
    "ridge_cv.fit(x_train_scaled, y_train)\n",
    "y_pred_ridge_cv = ridge_cv.predict(x_test_scaled)\n",
    "print(\"RidgeCV Mean Squared Error:\", mean_squared_error(y_test, y_pred_ridge_cv))\n",
    "print(\"RidgeCV R-squared:\", r2_score(y_test, y_pred_ridge_cv))\n",
    "plt.scatter(y_test, y_pred_ridge_cv)"
   ]
  },
  {
   "cell_type": "code",
   "execution_count": 47,
   "id": "bc6b4e79",
   "metadata": {},
   "outputs": [
    {
     "data": {
      "text/plain": [
       "{'alpha_per_target': False,\n",
       " 'alphas': (0.1, 1.0, 10.0),\n",
       " 'cv': 5,\n",
       " 'fit_intercept': True,\n",
       " 'gcv_mode': None,\n",
       " 'scoring': None,\n",
       " 'store_cv_values': False}"
      ]
     },
     "execution_count": 47,
     "metadata": {},
     "output_type": "execute_result"
    }
   ],
   "source": [
    "ridge_cv.get_params()"
   ]
  },
  {
   "cell_type": "code",
   "execution_count": 48,
   "id": "ea160242",
   "metadata": {},
   "outputs": [
    {
     "name": "stdout",
     "output_type": "stream",
     "text": [
      "ElasticNetCV Mean Squared Error: 0.8225822491766823\n",
      "ElasticNetCV R-squared: 0.9728596143015988\n"
     ]
    },
    {
     "data": {
      "text/plain": [
       "<matplotlib.collections.PathCollection at 0x20ff8ee8490>"
      ]
     },
     "execution_count": 48,
     "metadata": {},
     "output_type": "execute_result"
    },
    {
     "data": {
      "image/png": "[encoded data removed]",
      "text/plain": [
       "<Figure size 640x480 with 1 Axes>"
      ]
     },
     "metadata": {},
     "output_type": "display_data"
    }
   ],
   "source": [
    "from sklearn.linear_model import ElasticNetCV\n",
    "elastic_net_cv = ElasticNetCV(cv=5)\n",
    "elastic_net_cv.fit(x_train_scaled, y_train)\n",
    "y_pred_elastic_net_cv = elastic_net_cv.predict(x_test_scaled)\n",
    "print(\"ElasticNetCV Mean Squared Error:\", mean_squared_error(y_test, y_pred_elastic_net_cv))\n",
    "print(\"ElasticNetCV R-squared:\", r2_score(y_test, y_pred_elastic_net_cv))\n",
    "plt.scatter(y_test, y_pred_elastic_net_cv)"
   ]
  },
  {
   "cell_type": "code",
   "execution_count": 49,
   "id": "f2869cd0",
   "metadata": {},
   "outputs": [],
   "source": [
    "## pickle the model and preprocessing models\n",
    "import pickle\n"
   ]
  },
  {
   "cell_type": "code",
   "execution_count": 50,
   "id": "cdc9d323",
   "metadata": {},
   "outputs": [
    {
     "data": {
      "text/html": [
       "<style>#sk-container-id-2 {color: black;}#sk-container-id-2 pre{padding: 0;}#sk-container-id-2 div.sk-toggleable {background-color: white;}#sk-container-id-2 label.sk-toggleable__label {cursor: pointer;display: block;width: 100%;margin-bottom: 0;padding: 0.3em;box-sizing: border-box;text-align: center;}#sk-container-id-2 label.sk-toggleable__label-arrow:before {content: \"▸\";float: left;margin-right: 0.25em;color: #696969;}#sk-container-id-2 label.sk-toggleable__label-arrow:hover:before {color: black;}#sk-container-id-2 div.sk-estimator:hover label.sk-toggleable__label-arrow:before {color: black;}#sk-container-id-2 div.sk-toggleable__content {max-height: 0;max-width: 0;overflow: hidden;text-align: left;background-color: #f0f8ff;}#sk-container-id-2 div.sk-toggleable__content pre {margin: 0.2em;color: black;border-radius: 0.25em;background-color: #f0f8ff;}#sk-container-id-2 input.sk-toggleable__control:checked~div.sk-toggleable__content {max-height: 200px;max-width: 100%;overflow: auto;}#sk-container-id-2 input.sk-toggleable__control:checked~label.sk-toggleable__label-arrow:before {content: \"▾\";}#sk-container-id-2 div.sk-estimator input.sk-toggleable__control:checked~label.sk-toggleable__label {background-color: #d4ebff;}#sk-container-id-2 div.sk-label input.sk-toggleable__control:checked~label.sk-toggleable__label {background-color: #d4ebff;}#sk-container-id-2 input.sk-hidden--visually {border: 0;clip: rect(1px 1px 1px 1px);clip: rect(1px, 1px, 1px, 1px);height: 1px;margin: -1px;overflow: hidden;padding: 0;position: absolute;width: 1px;}#sk-container-id-2 div.sk-estimator {font-family: monospace;background-color: #f0f8ff;border: 1px dotted black;border-radius: 0.25em;box-sizing: border-box;margin-bottom: 0.5em;}#sk-container-id-2 div.sk-estimator:hover {background-color: #d4ebff;}#sk-container-id-2 div.sk-parallel-item::after {content: \"\";width: 100%;border-bottom: 1px solid gray;flex-grow: 1;}#sk-container-id-2 div.sk-label:hover label.sk-toggleable__label {background-color: #d4ebff;}#sk-container-id-2 div.sk-serial::before {content: \"\";position: absolute;border-left: 1px solid gray;box-sizing: border-box;top: 0;bottom: 0;left: 50%;z-index: 0;}#sk-container-id-2 div.sk-serial {display: flex;flex-direction: column;align-items: center;background-color: white;padding-right: 0.2em;padding-left: 0.2em;position: relative;}#sk-container-id-2 div.sk-item {position: relative;z-index: 1;}#sk-container-id-2 div.sk-parallel {display: flex;align-items: stretch;justify-content: center;background-color: white;position: relative;}#sk-container-id-2 div.sk-item::before, #sk-container-id-2 div.sk-parallel-item::before {content: \"\";position: absolute;border-left: 1px solid gray;box-sizing: border-box;top: 0;bottom: 0;left: 50%;z-index: -1;}#sk-container-id-2 div.sk-parallel-item {display: flex;flex-direction: column;z-index: 1;position: relative;background-color: white;}#sk-container-id-2 div.sk-parallel-item:first-child::after {align-self: flex-end;width: 50%;}#sk-container-id-2 div.sk-parallel-item:last-child::after {align-self: flex-start;width: 50%;}#sk-container-id-2 div.sk-parallel-item:only-child::after {width: 0;}#sk-container-id-2 div.sk-dashed-wrapped {border: 1px dashed gray;margin: 0 0.4em 0.5em 0.4em;box-sizing: border-box;padding-bottom: 0.4em;background-color: white;}#sk-container-id-2 div.sk-label label {font-family: monospace;font-weight: bold;display: inline-block;line-height: 1.2em;}#sk-container-id-2 div.sk-label-container {text-align: center;}#sk-container-id-2 div.sk-container {/* jupyter's `normalize.less` sets `[hidden] { display: none; }` but bootstrap.min.css set `[hidden] { display: none !important; }` so we also need the `!important` here to be able to override the default hidden behavior on the sphinx rendered scikit-learn.org. See: https://github.com/scikit-learn/scikit-learn/issues/21755 */display: inline-block !important;position: relative;}#sk-container-id-2 div.sk-text-repr-fallback {display: none;}</style><div id=\"sk-container-id-2\" class=\"sk-top-container\"><div class=\"sk-text-repr-fallback\"><pre>StandardScaler()</pre><b>In a Jupyter environment, please rerun this cell to show the HTML representation or trust the notebook. <br />On GitHub, the HTML representation is unable to render, please try loading this page with nbviewer.org.</b></div><div class=\"sk-container\" hidden><div class=\"sk-item\"><div class=\"sk-estimator sk-toggleable\"><input class=\"sk-toggleable__control sk-hidden--visually\" id=\"sk-estimator-id-2\" type=\"checkbox\" checked><label for=\"sk-estimator-id-2\" class=\"sk-toggleable__label sk-toggleable__label-arrow\">StandardScaler</label><div class=\"sk-toggleable__content\"><pre>StandardScaler()</pre></div></div></div></div></div>"
      ],
      "text/plain": [
       "StandardScaler()"
      ]
     },
     "execution_count": 50,
     "metadata": {},
     "output_type": "execute_result"
    }
   ],
   "source": [
    "scaler"
   ]
  },
  {
   "cell_type": "code",
   "execution_count": 51,
   "id": "ede8aa60",
   "metadata": {},
   "outputs": [
    {
     "data": {
      "text/html": [
       "<style>#sk-container-id-3 {color: black;}#sk-container-id-3 pre{padding: 0;}#sk-container-id-3 div.sk-toggleable {background-color: white;}#sk-container-id-3 label.sk-toggleable__label {cursor: pointer;display: block;width: 100%;margin-bottom: 0;padding: 0.3em;box-sizing: border-box;text-align: center;}#sk-container-id-3 label.sk-toggleable__label-arrow:before {content: \"▸\";float: left;margin-right: 0.25em;color: #696969;}#sk-container-id-3 label.sk-toggleable__label-arrow:hover:before {color: black;}#sk-container-id-3 div.sk-estimator:hover label.sk-toggleable__label-arrow:before {color: black;}#sk-container-id-3 div.sk-toggleable__content {max-height: 0;max-width: 0;overflow: hidden;text-align: left;background-color: #f0f8ff;}#sk-container-id-3 div.sk-toggleable__content pre {margin: 0.2em;color: black;border-radius: 0.25em;background-color: #f0f8ff;}#sk-container-id-3 input.sk-toggleable__control:checked~div.sk-toggleable__content {max-height: 200px;max-width: 100%;overflow: auto;}#sk-container-id-3 input.sk-toggleable__control:checked~label.sk-toggleable__label-arrow:before {content: \"▾\";}#sk-container-id-3 div.sk-estimator input.sk-toggleable__control:checked~label.sk-toggleable__label {background-color: #d4ebff;}#sk-container-id-3 div.sk-label input.sk-toggleable__control:checked~label.sk-toggleable__label {background-color: #d4ebff;}#sk-container-id-3 input.sk-hidden--visually {border: 0;clip: rect(1px 1px 1px 1px);clip: rect(1px, 1px, 1px, 1px);height: 1px;margin: -1px;overflow: hidden;padding: 0;position: absolute;width: 1px;}#sk-container-id-3 div.sk-estimator {font-family: monospace;background-color: #f0f8ff;border: 1px dotted black;border-radius: 0.25em;box-sizing: border-box;margin-bottom: 0.5em;}#sk-container-id-3 div.sk-estimator:hover {background-color: #d4ebff;}#sk-container-id-3 div.sk-parallel-item::after {content: \"\";width: 100%;border-bottom: 1px solid gray;flex-grow: 1;}#sk-container-id-3 div.sk-label:hover label.sk-toggleable__label {background-color: #d4ebff;}#sk-container-id-3 div.sk-serial::before {content: \"\";position: absolute;border-left: 1px solid gray;box-sizing: border-box;top: 0;bottom: 0;left: 50%;z-index: 0;}#sk-container-id-3 div.sk-serial {display: flex;flex-direction: column;align-items: center;background-color: white;padding-right: 0.2em;padding-left: 0.2em;position: relative;}#sk-container-id-3 div.sk-item {position: relative;z-index: 1;}#sk-container-id-3 div.sk-parallel {display: flex;align-items: stretch;justify-content: center;background-color: white;position: relative;}#sk-container-id-3 div.sk-item::before, #sk-container-id-3 div.sk-parallel-item::before {content: \"\";position: absolute;border-left: 1px solid gray;box-sizing: border-box;top: 0;bottom: 0;left: 50%;z-index: -1;}#sk-container-id-3 div.sk-parallel-item {display: flex;flex-direction: column;z-index: 1;position: relative;background-color: white;}#sk-container-id-3 div.sk-parallel-item:first-child::after {align-self: flex-end;width: 50%;}#sk-container-id-3 div.sk-parallel-item:last-child::after {align-self: flex-start;width: 50%;}#sk-container-id-3 div.sk-parallel-item:only-child::after {width: 0;}#sk-container-id-3 div.sk-dashed-wrapped {border: 1px dashed gray;margin: 0 0.4em 0.5em 0.4em;box-sizing: border-box;padding-bottom: 0.4em;background-color: white;}#sk-container-id-3 div.sk-label label {font-family: monospace;font-weight: bold;display: inline-block;line-height: 1.2em;}#sk-container-id-3 div.sk-label-container {text-align: center;}#sk-container-id-3 div.sk-container {/* jupyter's `normalize.less` sets `[hidden] { display: none; }` but bootstrap.min.css set `[hidden] { display: none !important; }` so we also need the `!important` here to be able to override the default hidden behavior on the sphinx rendered scikit-learn.org. See: https://github.com/scikit-learn/scikit-learn/issues/21755 */display: inline-block !important;position: relative;}#sk-container-id-3 div.sk-text-repr-fallback {display: none;}</style><div id=\"sk-container-id-3\" class=\"sk-top-container\"><div class=\"sk-text-repr-fallback\"><pre>Ridge()</pre><b>In a Jupyter environment, please rerun this cell to show the HTML representation or trust the notebook. <br />On GitHub, the HTML representation is unable to render, please try loading this page with nbviewer.org.</b></div><div class=\"sk-container\" hidden><div class=\"sk-item\"><div class=\"sk-estimator sk-toggleable\"><input class=\"sk-toggleable__control sk-hidden--visually\" id=\"sk-estimator-id-3\" type=\"checkbox\" checked><label for=\"sk-estimator-id-3\" class=\"sk-toggleable__label sk-toggleable__label-arrow\">Ridge</label><div class=\"sk-toggleable__content\"><pre>Ridge()</pre></div></div></div></div></div>"
      ],
      "text/plain": [
       "Ridge()"
      ]
     },
     "execution_count": 51,
     "metadata": {},
     "output_type": "execute_result"
    }
   ],
   "source": [
    "ridge"
   ]
  },
  {
   "cell_type": "code",
   "execution_count": 52,
   "id": "fa9240fe",
   "metadata": {},
   "outputs": [],
   "source": [
    "import pickle \n",
    "pickle.dump(scaler, open('scaler.pkl', 'wb'))\n",
    "pickle.dump(ridge, open('ridge_model.pkl', 'wb'))"
   ]
  },
  {
   "cell_type": "code",
   "execution_count": 55,
   "id": "4cf61ae3",
   "metadata": {},
   "outputs": [
    {
     "data": {
      "text/html": [
       "<div>\n",
       "<style scoped>\n",
       "    .dataframe tbody tr th:only-of-type {\n",
       "        vertical-align: middle;\n",
       "    }\n",
       "\n",
       "    .dataframe tbody tr th {\n",
       "        vertical-align: top;\n",
       "    }\n",
       "\n",
       "    .dataframe thead th {\n",
       "        text-align: right;\n",
       "    }\n",
       "</style>\n",
       "<table border=\"1\" class=\"dataframe\">\n",
       "  <thead>\n",
       "    <tr style=\"text-align: right;\">\n",
       "      <th></th>\n",
       "      <th>Temperature</th>\n",
       "      <th>RH</th>\n",
       "      <th>Ws</th>\n",
       "      <th>Rain</th>\n",
       "      <th>FFMC</th>\n",
       "      <th>DMC</th>\n",
       "      <th>DC</th>\n",
       "      <th>ISI</th>\n",
       "      <th>BUI</th>\n",
       "      <th>FWI</th>\n",
       "      <th>Classes</th>\n",
       "    </tr>\n",
       "  </thead>\n",
       "  <tbody>\n",
       "    <tr>\n",
       "      <th>0</th>\n",
       "      <td>29</td>\n",
       "      <td>57</td>\n",
       "      <td>18</td>\n",
       "      <td>0.0</td>\n",
       "      <td>65.7</td>\n",
       "      <td>3.4</td>\n",
       "      <td>7.6</td>\n",
       "      <td>1.3</td>\n",
       "      <td>3.4</td>\n",
       "      <td>0.5</td>\n",
       "      <td>0</td>\n",
       "    </tr>\n",
       "    <tr>\n",
       "      <th>1</th>\n",
       "      <td>29</td>\n",
       "      <td>61</td>\n",
       "      <td>13</td>\n",
       "      <td>1.3</td>\n",
       "      <td>64.4</td>\n",
       "      <td>4.1</td>\n",
       "      <td>7.6</td>\n",
       "      <td>1.0</td>\n",
       "      <td>3.9</td>\n",
       "      <td>0.4</td>\n",
       "      <td>0</td>\n",
       "    </tr>\n",
       "    <tr>\n",
       "      <th>2</th>\n",
       "      <td>26</td>\n",
       "      <td>82</td>\n",
       "      <td>22</td>\n",
       "      <td>13.1</td>\n",
       "      <td>47.1</td>\n",
       "      <td>2.5</td>\n",
       "      <td>7.1</td>\n",
       "      <td>0.3</td>\n",
       "      <td>2.7</td>\n",
       "      <td>0.1</td>\n",
       "      <td>0</td>\n",
       "    </tr>\n",
       "    <tr>\n",
       "      <th>3</th>\n",
       "      <td>25</td>\n",
       "      <td>89</td>\n",
       "      <td>13</td>\n",
       "      <td>2.5</td>\n",
       "      <td>28.6</td>\n",
       "      <td>1.3</td>\n",
       "      <td>6.9</td>\n",
       "      <td>0.0</td>\n",
       "      <td>1.7</td>\n",
       "      <td>0.0</td>\n",
       "      <td>0</td>\n",
       "    </tr>\n",
       "    <tr>\n",
       "      <th>4</th>\n",
       "      <td>27</td>\n",
       "      <td>77</td>\n",
       "      <td>16</td>\n",
       "      <td>0.0</td>\n",
       "      <td>64.8</td>\n",
       "      <td>3.0</td>\n",
       "      <td>14.2</td>\n",
       "      <td>1.2</td>\n",
       "      <td>3.9</td>\n",
       "      <td>0.5</td>\n",
       "      <td>0</td>\n",
       "    </tr>\n",
       "  </tbody>\n",
       "</table>\n",
       "</div>"
      ],
      "text/plain": [
       "   Temperature  RH  Ws  Rain  FFMC  DMC    DC  ISI  BUI  FWI  Classes\n",
       "0           29  57  18   0.0  65.7  3.4   7.6  1.3  3.4  0.5        0\n",
       "1           29  61  13   1.3  64.4  4.1   7.6  1.0  3.9  0.4        0\n",
       "2           26  82  22  13.1  47.1  2.5   7.1  0.3  2.7  0.1        0\n",
       "3           25  89  13   2.5  28.6  1.3   6.9  0.0  1.7  0.0        0\n",
       "4           27  77  16   0.0  64.8  3.0  14.2  1.2  3.9  0.5        0"
      ]
     },
     "execution_count": 55,
     "metadata": {},
     "output_type": "execute_result"
    }
   ],
   "source": [
    "df.head()"
   ]
  },
  {
   "cell_type": "code",
   "execution_count": null,
   "id": "177b7bcb",
   "metadata": {},
   "outputs": [
    {
     "data": {
      "text/plain": [
       "0.5"
      ]
     },
     "execution_count": 56,
     "metadata": {},
     "output_type": "execute_result"
    }
   ],
   "source": []
  },
  {
   "cell_type": "code",
   "execution_count": 57,
   "id": "3101c49c",
   "metadata": {},
   "outputs": [
    {
     "data": {
      "text/plain": [
       "0      0.5\n",
       "1      0.4\n",
       "2      0.1\n",
       "3      0.0\n",
       "4      0.5\n",
       "      ... \n",
       "238    6.5\n",
       "239    0.0\n",
       "240    0.2\n",
       "241    0.7\n",
       "242    0.5\n",
       "Name: FWI, Length: 243, dtype: float64"
      ]
     },
     "execution_count": 57,
     "metadata": {},
     "output_type": "execute_result"
    }
   ],
   "source": [
    "y"
   ]
  },
  {
   "cell_type": "code",
   "execution_count": null,
   "id": "6a44cd68",
   "metadata": {},
   "outputs": [
    {
     "name": "stdout",
     "output_type": "stream",
     "text": [
      "Collecting Flask\n",
      "  Using cached flask-3.1.1-py3-none-any.whl (103 kB)\n",
      "Collecting numpy\n",
      "  Using cached numpy-2.2.6-cp310-cp310-win_amd64.whl (12.9 MB)\n",
      "Collecting pandas\n",
      "  Using cached pandas-2.3.0-cp310-cp310-win_amd64.whl (11.1 MB)\n",
      "Collecting scikit-learn\n",
      "  Using cached scikit_learn-1.7.0-cp310-cp310-win_amd64.whl (10.7 MB)\n",
      "Collecting matplotlib\n",
      "  Downloading matplotlib-3.10.3-cp310-cp310-win_amd64.whl (8.1 MB)\n",
      "Collecting seaborn\n",
      "  Downloading seaborn-0.13.2-py3-none-any.whl (294 kB)\n",
      "Collecting click>=8.1.3\n",
      "  Using cached click-8.2.1-py3-none-any.whl (102 kB)\n",
      "Collecting jinja2>=3.1.2\n",
      "  Using cached jinja2-3.1.6-py3-none-any.whl (134 kB)\n",
      "Collecting blinker>=1.9.0\n",
      "  Using cached blinker-1.9.0-py3-none-any.whl (8.5 kB)\n",
      "Collecting markupsafe>=2.1.1\n",
      "  Using cached MarkupSafe-3.0.2-cp310-cp310-win_amd64.whl (15 kB)\n",
      "Collecting itsdangerous>=2.2.0\n",
      "  Using cached itsdangerous-2.2.0-py3-none-any.whl (16 kB)\n",
      "Collecting werkzeug>=3.1.0\n",
      "  Using cached werkzeug-3.1.3-py3-none-any.whl (224 kB)\n",
      "Collecting tzdata>=2022.7\n",
      "  Using cached tzdata-2025.2-py2.py3-none-any.whl (347 kB)\n",
      "Collecting python-dateutil>=2.8.2\n",
      "  Using cached python_dateutil-2.9.0.post0-py2.py3-none-any.whl (229 kB)\n",
      "Collecting pytz>=2020.1\n",
      "  Using cached pytz-2025.2-py2.py3-none-any.whl (509 kB)\n",
      "Collecting joblib>=1.2.0\n",
      "  Using cached joblib-1.5.1-py3-none-any.whl (307 kB)\n",
      "Collecting scipy>=1.8.0\n",
      "  Using cached scipy-1.15.3-cp310-cp310-win_amd64.whl (41.3 MB)\n",
      "Collecting threadpoolctl>=3.1.0\n",
      "  Using cached threadpoolctl-3.6.0-py3-none-any.whl (18 kB)\n",
      "Collecting cycler>=0.10\n",
      "  Downloading cycler-0.12.1-py3-none-any.whl (8.3 kB)\n",
      "Collecting pillow>=8\n",
      "  Downloading pillow-11.3.0-cp310-cp310-win_amd64.whl (7.0 MB)\n",
      "Collecting fonttools>=4.22.0\n",
      "  Downloading fonttools-4.58.5-cp310-cp310-win_amd64.whl (2.2 MB)\n",
      "Collecting packaging>=20.0\n",
      "  Using cached packaging-25.0-py3-none-any.whl (66 kB)\n",
      "Collecting kiwisolver>=1.3.1\n",
      "  Downloading kiwisolver-1.4.8-cp310-cp310-win_amd64.whl (71 kB)\n",
      "Collecting pyparsing>=2.3.1\n",
      "  Downloading pyparsing-3.2.3-py3-none-any.whl (111 kB)\n",
      "Collecting contourpy>=1.0.1\n",
      "  Downloading contourpy-1.3.2-cp310-cp310-win_amd64.whl (221 kB)\n",
      "Collecting colorama\n",
      "  Using cached colorama-0.4.6-py2.py3-none-any.whl (25 kB)\n",
      "Collecting six>=1.5\n",
      "  Using cached six-1.17.0-py2.py3-none-any.whl (11 kB)\n",
      "Installing collected packages: six, numpy, tzdata, pytz, python-dateutil, pyparsing, pillow, packaging, markupsafe, kiwisolver, fonttools, cycler, contourpy, colorama, werkzeug, threadpoolctl, scipy, pandas, matplotlib, joblib, jinja2, itsdangerous, click, blinker, seaborn, scikit-learn, Flask\n",
      "  Attempting uninstall: six\n",
      "    Found existing installation: six 1.17.0\n",
      "    Uninstalling six-1.17.0:\n",
      "      Successfully uninstalled six-1.17.0\n",
      "  Attempting uninstall: numpy\n",
      "    Found existing installation: numpy 2.2.6\n",
      "    Uninstalling numpy-2.2.6:\n",
      "      Successfully uninstalled numpy-2.2.6\n"
     ]
    },
    {
     "name": "stderr",
     "output_type": "stream",
     "text": [
      "  WARNING: The scripts f2py.exe and numpy-config.exe are installed in 'c:\\Users\\Tanvi Kamath\\AppData\\Local\\Programs\\Python\\Python310\\Scripts' which is not on PATH.\n",
      "  Consider adding this directory to PATH or, if you prefer to suppress this warning, use --no-warn-script-location.\n",
      "ERROR: Could not install packages due to an OSError: [WinError 5] Access is denied: 'C:\\\\Users\\\\Tanvi Kamath\\\\AppData\\\\Local\\\\Programs\\\\Python\\\\Python310\\\\Lib\\\\site-packages\\\\~umpy.libs\\\\libscipy_openblas64_-13e2df515630b4a41f92893938845698.dll'\n",
      "Consider using the `--user` option or check the permissions.\n",
      "\n",
      "WARNING: You are using pip version 21.2.3; however, version 25.1.1 is available.\n",
      "You should consider upgrading via the 'c:\\Users\\Tanvi Kamath\\AppData\\Local\\Programs\\Python\\Python310\\python.exe -m pip install --upgrade pip' command.\n"
     ]
    }
   ],
   "source": [
    "!python -m pip install -r requirements.txt --force-reinstall\n"
   ]
  },
  {
   "cell_type": "code",
   "execution_count": null,
   "id": "fc6496a4",
   "metadata": {},
   "outputs": [
    {
     "name": "stdout",
     "output_type": "stream",
     "text": [
      "Collecting matplotlib\n",
      "  Downloading matplotlib-3.10.3-cp313-cp313-win_amd64.whl.metadata (11 kB)\n",
      "Collecting seaborn\n",
      "  Using cached seaborn-0.13.2-py3-none-any.whl.metadata (5.4 kB)\n",
      "Collecting contourpy>=1.0.1 (from matplotlib)\n",
      "  Downloading contourpy-1.3.2-cp313-cp313-win_amd64.whl.metadata (5.5 kB)\n",
      "Collecting cycler>=0.10 (from matplotlib)\n",
      "  Using cached cycler-0.12.1-py3-none-any.whl.metadata (3.8 kB)\n",
      "Collecting fonttools>=4.22.0 (from matplotlib)\n",
      "  Downloading fonttools-4.58.5-cp313-cp313-win_amd64.whl.metadata (109 kB)\n",
      "Collecting kiwisolver>=1.3.1 (from matplotlib)\n",
      "  Using cached kiwisolver-1.4.8-cp313-cp313-win_amd64.whl.metadata (6.3 kB)\n",
      "Collecting numpy>=1.23 (from matplotlib)\n",
      "  Using cached numpy-2.3.1-cp313-cp313-win_amd64.whl.metadata (60 kB)\n",
      "Collecting packaging>=20.0 (from matplotlib)\n",
      "  Downloading packaging-25.0-py3-none-any.whl.metadata (3.3 kB)\n",
      "Collecting pillow>=8 (from matplotlib)\n",
      "  Downloading pillow-11.3.0-cp313-cp313-win_amd64.whl.metadata (9.2 kB)\n",
      "Collecting pyparsing>=2.3.1 (from matplotlib)\n",
      "  Downloading pyparsing-3.2.3-py3-none-any.whl.metadata (5.0 kB)\n",
      "Collecting python-dateutil>=2.7 (from matplotlib)\n",
      "  Using cached python_dateutil-2.9.0.post0-py2.py3-none-any.whl.metadata (8.4 kB)\n",
      "Collecting pandas>=1.2 (from seaborn)\n",
      "  Downloading pandas-2.3.0-cp313-cp313-win_amd64.whl.metadata (19 kB)\n",
      "Collecting pytz>=2020.1 (from pandas>=1.2->seaborn)\n",
      "  Using cached pytz-2025.2-py2.py3-none-any.whl.metadata (22 kB)\n",
      "Collecting tzdata>=2022.7 (from pandas>=1.2->seaborn)\n",
      "  Using cached tzdata-2025.2-py2.py3-none-any.whl.metadata (1.4 kB)\n",
      "Collecting six>=1.5 (from python-dateutil>=2.7->matplotlib)\n",
      "  Using cached six-1.17.0-py2.py3-none-any.whl.metadata (1.7 kB)\n",
      "Downloading matplotlib-3.10.3-cp313-cp313-win_amd64.whl (8.1 MB)\n",
      "   ---------------------------------------- 0.0/8.1 MB ? eta -:--:--\n",
      "   - -------------------------------------- 0.3/8.1 MB ? eta -:--:--\n",
      "   --- ------------------------------------ 0.8/8.1 MB 2.0 MB/s eta 0:00:04\n",
      "   ------- -------------------------------- 1.6/8.1 MB 2.7 MB/s eta 0:00:03\n",
      "   --------- ------------------------------ 1.8/8.1 MB 2.7 MB/s eta 0:00:03\n",
      "   ----------- ---------------------------- 2.4/8.1 MB 2.4 MB/s eta 0:00:03\n",
      "   -------------- ------------------------- 2.9/8.1 MB 2.5 MB/s eta 0:00:03\n",
      "   ---------------- ----------------------- 3.4/8.1 MB 2.4 MB/s eta 0:00:02\n",
      "   ------------------- -------------------- 3.9/8.1 MB 2.4 MB/s eta 0:00:02\n",
      "   ---------------------- ----------------- 4.5/8.1 MB 2.4 MB/s eta 0:00:02\n",
      "   ----------------------- ---------------- 4.7/8.1 MB 2.3 MB/s eta 0:00:02\n",
      "   ------------------------- -------------- 5.2/8.1 MB 2.3 MB/s eta 0:00:02\n",
      "   --------------------------- ------------ 5.5/8.1 MB 2.3 MB/s eta 0:00:02\n",
      "   ----------------------------- ---------- 6.0/8.1 MB 2.3 MB/s eta 0:00:01\n",
      "   ------------------------------- -------- 6.3/8.1 MB 2.2 MB/s eta 0:00:01\n",
      "   -------------------------------- ------- 6.6/8.1 MB 2.1 MB/s eta 0:00:01\n",
      "   --------------------------------- ------ 6.8/8.1 MB 2.0 MB/s eta 0:00:01\n",
      "   ----------------------------------- ---- 7.1/8.1 MB 2.0 MB/s eta 0:00:01\n",
      "   ------------------------------------ --- 7.3/8.1 MB 1.9 MB/s eta 0:00:01\n",
      "   ------------------------------------- -- 7.6/8.1 MB 1.9 MB/s eta 0:00:01\n",
      "   ---------------------------------------- 8.1/8.1 MB 1.9 MB/s eta 0:00:00\n",
      "Using cached seaborn-0.13.2-py3-none-any.whl (294 kB)\n",
      "Downloading contourpy-1.3.2-cp313-cp313-win_amd64.whl (223 kB)\n",
      "Using cached cycler-0.12.1-py3-none-any.whl (8.3 kB)\n",
      "Downloading fonttools-4.58.5-cp313-cp313-win_amd64.whl (2.2 MB)\n",
      "   ---------------------------------------- 0.0/2.2 MB ? eta -:--:--\n",
      "   --------- ------------------------------ 0.5/2.2 MB 2.6 MB/s eta 0:00:01\n",
      "   -------------- ------------------------- 0.8/2.2 MB 2.4 MB/s eta 0:00:01\n",
      "   ------------------ --------------------- 1.0/2.2 MB 2.2 MB/s eta 0:00:01\n",
      "   ----------------------- ---------------- 1.3/2.2 MB 1.6 MB/s eta 0:00:01\n",
      "   ---------------------------- ----------- 1.6/2.2 MB 1.6 MB/s eta 0:00:01\n",
      "   ------------------------------------- -- 2.1/2.2 MB 1.6 MB/s eta 0:00:01\n",
      "   ---------------------------------------- 2.2/2.2 MB 1.6 MB/s eta 0:00:00\n",
      "Using cached kiwisolver-1.4.8-cp313-cp313-win_amd64.whl (71 kB)\n",
      "Using cached numpy-2.3.1-cp313-cp313-win_amd64.whl (12.7 MB)\n",
      "Downloading packaging-25.0-py3-none-any.whl (66 kB)\n",
      "Downloading pandas-2.3.0-cp313-cp313-win_amd64.whl (11.0 MB)\n",
      "   ---------------------------------------- 0.0/11.0 MB ? eta -:--:--\n",
      "    --------------------------------------- 0.3/11.0 MB ? eta -:--:--\n",
      "   -- ------------------------------------- 0.8/11.0 MB 2.0 MB/s eta 0:00:06\n",
      "   --- ------------------------------------ 1.0/11.0 MB 1.5 MB/s eta 0:00:07\n",
      "   ---- ----------------------------------- 1.3/11.0 MB 1.6 MB/s eta 0:00:07\n",
      "   ----- ---------------------------------- 1.6/11.0 MB 1.5 MB/s eta 0:00:07\n",
      "   ------ --------------------------------- 1.8/11.0 MB 1.5 MB/s eta 0:00:07\n",
      "   -------- ------------------------------- 2.4/11.0 MB 1.6 MB/s eta 0:00:06\n",
      "   --------- ------------------------------ 2.6/11.0 MB 1.5 MB/s eta 0:00:06\n",
      "   ---------- ----------------------------- 2.9/11.0 MB 1.6 MB/s eta 0:00:06\n",
      "   ------------ --------------------------- 3.4/11.0 MB 1.6 MB/s eta 0:00:05\n",
      "   ------------- -------------------------- 3.7/11.0 MB 1.5 MB/s eta 0:00:05\n",
      "   ------------- -------------------------- 3.7/11.0 MB 1.5 MB/s eta 0:00:05\n",
      "   ------------- -------------------------- 3.7/11.0 MB 1.5 MB/s eta 0:00:05\n",
      "   ------------- -------------------------- 3.7/11.0 MB 1.5 MB/s eta 0:00:05\n",
      "   ------------- -------------------------- 3.7/11.0 MB 1.5 MB/s eta 0:00:05\n",
      "   ------------- -------------------------- 3.7/11.0 MB 1.5 MB/s eta 0:00:05\n",
      "   -------------- ------------------------- 3.9/11.0 MB 1.1 MB/s eta 0:00:07\n",
      "   --------------- ------------------------ 4.2/11.0 MB 1.1 MB/s eta 0:00:07\n",
      "   ---------------- ----------------------- 4.5/11.0 MB 1.1 MB/s eta 0:00:07\n",
      "   ----------------- ---------------------- 4.7/11.0 MB 1.1 MB/s eta 0:00:06\n",
      "   ------------------ --------------------- 5.0/11.0 MB 1.1 MB/s eta 0:00:06\n",
      "   ------------------- -------------------- 5.2/11.0 MB 1.1 MB/s eta 0:00:06\n",
      "   -------------------- ------------------- 5.5/11.0 MB 1.1 MB/s eta 0:00:05\n",
      "   --------------------- ------------------ 5.8/11.0 MB 1.1 MB/s eta 0:00:05\n",
      "   --------------------- ------------------ 5.8/11.0 MB 1.1 MB/s eta 0:00:05\n",
      "   --------------------- ------------------ 5.8/11.0 MB 1.1 MB/s eta 0:00:05\n",
      "   --------------------- ------------------ 6.0/11.0 MB 1.1 MB/s eta 0:00:05\n",
      "   ---------------------- ----------------- 6.3/11.0 MB 1.0 MB/s eta 0:00:05\n",
      "   ----------------------- ---------------- 6.6/11.0 MB 1.0 MB/s eta 0:00:05\n",
      "   ------------------------ --------------- 6.8/11.0 MB 1.0 MB/s eta 0:00:04\n",
      "   ------------------------- -------------- 7.1/11.0 MB 1.1 MB/s eta 0:00:04\n",
      "   --------------------------- ------------ 7.6/11.0 MB 1.1 MB/s eta 0:00:04\n",
      "   ----------------------------- ---------- 8.1/11.0 MB 1.1 MB/s eta 0:00:03\n",
      "   ------------------------------ --------- 8.4/11.0 MB 1.1 MB/s eta 0:00:03\n",
      "   ------------------------------- -------- 8.7/11.0 MB 1.2 MB/s eta 0:00:03\n",
      "   --------------------------------- ------ 9.2/11.0 MB 1.2 MB/s eta 0:00:02\n",
      "   ----------------------------------- ---- 9.7/11.0 MB 1.2 MB/s eta 0:00:02\n",
      "   ------------------------------------- -- 10.2/11.0 MB 1.2 MB/s eta 0:00:01\n",
      "   ---------------------------------------  10.7/11.0 MB 1.3 MB/s eta 0:00:01\n",
      "   ---------------------------------------- 11.0/11.0 MB 1.3 MB/s eta 0:00:00\n",
      "Downloading pillow-11.3.0-cp313-cp313-win_amd64.whl (7.0 MB)\n",
      "   ---------------------------------------- 0.0/7.0 MB ? eta -:--:--\n",
      "   - -------------------------------------- 0.3/7.0 MB ? eta -:--:--\n",
      "   ---- ----------------------------------- 0.8/7.0 MB 2.0 MB/s eta 0:00:04\n",
      "   ------- -------------------------------- 1.3/7.0 MB 2.0 MB/s eta 0:00:03\n",
      "   --------- ------------------------------ 1.6/7.0 MB 2.0 MB/s eta 0:00:03\n",
      "   ------------ --------------------------- 2.1/7.0 MB 2.0 MB/s eta 0:00:03\n",
      "   --------------- ------------------------ 2.6/7.0 MB 2.0 MB/s eta 0:00:03\n",
      "   ---------------- ----------------------- 2.9/7.0 MB 2.0 MB/s eta 0:00:03\n",
      "   ------------------- -------------------- 3.4/7.0 MB 2.0 MB/s eta 0:00:02\n",
      "   --------------------- ------------------ 3.7/7.0 MB 1.9 MB/s eta 0:00:02\n",
      "   ---------------------- ----------------- 3.9/7.0 MB 1.8 MB/s eta 0:00:02\n",
      "   ------------------------ --------------- 4.2/7.0 MB 1.8 MB/s eta 0:00:02\n",
      "   ------------------------- -------------- 4.5/7.0 MB 1.8 MB/s eta 0:00:02\n",
      "   ---------------------------- ----------- 5.0/7.0 MB 1.8 MB/s eta 0:00:02\n",
      "   ---------------------------- ----------- 5.0/7.0 MB 1.8 MB/s eta 0:00:02\n",
      "   ------------------------------ --------- 5.2/7.0 MB 1.7 MB/s eta 0:00:02\n",
      "   ------------------------------- -------- 5.5/7.0 MB 1.6 MB/s eta 0:00:01\n",
      "   ---------------------------------- ----- 6.0/7.0 MB 1.6 MB/s eta 0:00:01\n",
      "   ------------------------------------ --- 6.3/7.0 MB 1.7 MB/s eta 0:00:01\n",
      "   ---------------------------------------  6.8/7.0 MB 1.7 MB/s eta 0:00:01\n",
      "   ---------------------------------------- 7.0/7.0 MB 1.7 MB/s eta 0:00:00\n",
      "Downloading pyparsing-3.2.3-py3-none-any.whl (111 kB)\n",
      "Using cached python_dateutil-2.9.0.post0-py2.py3-none-any.whl (229 kB)\n",
      "Using cached pytz-2025.2-py2.py3-none-any.whl (509 kB)\n",
      "Using cached six-1.17.0-py2.py3-none-any.whl (11 kB)\n",
      "Using cached tzdata-2025.2-py2.py3-none-any.whl (347 kB)\n",
      "Installing collected packages: pytz, tzdata, six, pyparsing, pillow, packaging, numpy, kiwisolver, fonttools, cycler, python-dateutil, contourpy, pandas, matplotlib, seaborn\n",
      "\n",
      "  Attempting uninstall: pytz\n",
      "\n",
      "    Found existing installation: pytz 2025.1\n",
      "\n",
      "   ----------------------------------------  0/15 [pytz]\n",
      "    Uninstalling pytz-2025.1:\n",
      "   ----------------------------------------  0/15 [pytz]\n",
      "   ----------------------------------------  0/15 [pytz]\n",
      "      Successfully uninstalled pytz-2025.1\n",
      "   ----------------------------------------  0/15 [pytz]\n",
      "   ----------------------------------------  0/15 [pytz]\n",
      "   ----------------------------------------  0/15 [pytz]\n",
      "   ----------------------------------------  0/15 [pytz]\n",
      "   ----------------------------------------  0/15 [pytz]\n",
      "   ----------------------------------------  0/15 [pytz]\n",
      "   ----------------------------------------  0/15 [pytz]\n",
      "   ----------------------------------------  0/15 [pytz]\n",
      "   ----------------------------------------  0/15 [pytz]\n",
      "   ----------------------------------------  0/15 [pytz]\n",
      "   ----------------------------------------  0/15 [pytz]\n",
      "   ----------------------------------------  0/15 [pytz]\n",
      "  Attempting uninstall: tzdata\n",
      "   ----------------------------------------  0/15 [pytz]\n",
      "    Found existing installation: tzdata 2025.1\n",
      "   ----------------------------------------  0/15 [pytz]\n",
      "   -- -------------------------------------  1/15 [tzdata]\n",
      "   -- -------------------------------------  1/15 [tzdata]\n",
      "    Uninstalling tzdata-2025.1:\n",
      "   -- -------------------------------------  1/15 [tzdata]\n",
      "      Successfully uninstalled tzdata-2025.1\n",
      "   -- -------------------------------------  1/15 [tzdata]\n",
      "   -- -------------------------------------  1/15 [tzdata]\n",
      "   -- -------------------------------------  1/15 [tzdata]\n",
      "   -- -------------------------------------  1/15 [tzdata]\n",
      "   -- -------------------------------------  1/15 [tzdata]\n",
      "  Attempting uninstall: six\n",
      "   -- -------------------------------------  1/15 [tzdata]\n",
      "    Found existing installation: six 1.17.0\n",
      "   -- -------------------------------------  1/15 [tzdata]\n",
      "    Uninstalling six-1.17.0:\n",
      "   -- -------------------------------------  1/15 [tzdata]\n",
      "   ----- ----------------------------------  2/15 [six]\n",
      "   ----- ----------------------------------  2/15 [six]\n",
      "   ----- ----------------------------------  2/15 [six]\n",
      "   ----- ----------------------------------  2/15 [six]\n",
      "   ----- ----------------------------------  2/15 [six]\n",
      "   ----- ----------------------------------  2/15 [six]\n",
      "   ----- ----------------------------------  2/15 [six]\n",
      "   ----- ----------------------------------  2/15 [six]\n",
      "   ----- ----------------------------------  2/15 [six]\n",
      "   ----- ----------------------------------  2/15 [six]\n",
      "   ----- ----------------------------------  2/15 [six]\n",
      "   ----- ----------------------------------  2/15 [six]\n",
      "   ----- ----------------------------------  2/15 [six]\n",
      "      Successfully uninstalled six-1.17.0\n",
      "   ----- ----------------------------------  2/15 [six]\n",
      "  Attempting uninstall: pyparsing\n",
      "   ----- ----------------------------------  2/15 [six]\n",
      "    Found existing installation: pyparsing 3.2.1\n",
      "   ----- ----------------------------------  2/15 [six]\n",
      "    Uninstalling pyparsing-3.2.1:\n",
      "   ----- ----------------------------------  2/15 [six]\n",
      "      Successfully uninstalled pyparsing-3.2.1\n",
      "   ----- ----------------------------------  2/15 [six]\n",
      "   -------- -------------------------------  3/15 [pyparsing]\n",
      "  Attempting uninstall: pillow\n",
      "   -------- -------------------------------  3/15 [pyparsing]\n",
      "    Found existing installation: pillow 11.1.0\n",
      "   -------- -------------------------------  3/15 [pyparsing]\n",
      "    Uninstalling pillow-11.1.0:\n",
      "   -------- -------------------------------  3/15 [pyparsing]\n",
      "      Successfully uninstalled pillow-11.1.0\n",
      "   -------- -------------------------------  3/15 [pyparsing]\n",
      "   ---------- -----------------------------  4/15 [pillow]\n",
      "   ---------- -----------------------------  4/15 [pillow]\n",
      "   ---------- -----------------------------  4/15 [pillow]\n",
      "   ---------- -----------------------------  4/15 [pillow]\n",
      "  Attempting uninstall: packaging\n",
      "   ---------- -----------------------------  4/15 [pillow]\n",
      "   ------------- --------------------------  5/15 [packaging]\n",
      "    Found existing installation: packaging 24.2\n",
      "   ------------- --------------------------  5/15 [packaging]\n",
      "    Uninstalling packaging-24.2:\n",
      "   ------------- --------------------------  5/15 [packaging]\n",
      "      Successfully uninstalled packaging-24.2\n",
      "   ------------- --------------------------  5/15 [packaging]\n",
      "  Attempting uninstall: numpy\n",
      "   ------------- --------------------------  5/15 [packaging]\n",
      "    Found existing installation: numpy 2.3.1\n",
      "   ------------- --------------------------  5/15 [packaging]\n",
      "   ---------------- -----------------------  6/15 [numpy]\n",
      "   ---------------- -----------------------  6/15 [numpy]\n",
      "    Uninstalling numpy-2.3.1:\n",
      "   ---------------- -----------------------  6/15 [numpy]\n",
      "   ---------------- -----------------------  6/15 [numpy]\n",
      "      Successfully uninstalled numpy-2.3.1\n",
      "   ---------------- -----------------------  6/15 [numpy]\n",
      "   ---------------- -----------------------  6/15 [numpy]\n",
      "   ---------------- -----------------------  6/15 [numpy]\n",
      "   ---------------- -----------------------  6/15 [numpy]\n",
      "   ---------------- -----------------------  6/15 [numpy]\n",
      "   ---------------- -----------------------  6/15 [numpy]\n",
      "   ---------------- -----------------------  6/15 [numpy]\n",
      "   ---------------- -----------------------  6/15 [numpy]\n",
      "   ---------------- -----------------------  6/15 [numpy]\n",
      "   ---------------- -----------------------  6/15 [numpy]\n",
      "   ---------------- -----------------------  6/15 [numpy]\n",
      "   ---------------- -----------------------  6/15 [numpy]\n",
      "   ---------------- -----------------------  6/15 [numpy]\n",
      "   ---------------- -----------------------  6/15 [numpy]\n",
      "   ---------------- -----------------------  6/15 [numpy]\n",
      "   ---------------- -----------------------  6/15 [numpy]\n",
      "   ---------------- -----------------------  6/15 [numpy]\n",
      "   ---------------- -----------------------  6/15 [numpy]\n",
      "   ---------------- -----------------------  6/15 [numpy]\n",
      "   ---------------- -----------------------  6/15 [numpy]\n",
      "   ---------------- -----------------------  6/15 [numpy]\n",
      "   ---------------- -----------------------  6/15 [numpy]\n",
      "   ---------------- -----------------------  6/15 [numpy]\n",
      "   ---------------- -----------------------  6/15 [numpy]\n",
      "   ---------------- -----------------------  6/15 [numpy]\n",
      "   ---------------- -----------------------  6/15 [numpy]\n",
      "   ---------------- -----------------------  6/15 [numpy]\n",
      "   ---------------- -----------------------  6/15 [numpy]\n",
      "   ---------------- -----------------------  6/15 [numpy]\n",
      "   ---------------- -----------------------  6/15 [numpy]\n",
      "  Attempting uninstall: kiwisolver\n",
      "   ---------------- -----------------------  6/15 [numpy]\n",
      "    Found existing installation: kiwisolver 1.4.8\n",
      "   ---------------- -----------------------  6/15 [numpy]\n",
      "    Uninstalling kiwisolver-1.4.8:\n",
      "   ---------------- -----------------------  6/15 [numpy]\n",
      "      Successfully uninstalled kiwisolver-1.4.8\n",
      "   ---------------- -----------------------  6/15 [numpy]\n",
      "  Attempting uninstall: fonttools\n",
      "   ---------------- -----------------------  6/15 [numpy]\n",
      "    Found existing installation: fonttools 4.55.8\n",
      "   ---------------- -----------------------  6/15 [numpy]\n",
      "   --------------------- ------------------  8/15 [fonttools]\n",
      "    Uninstalling fonttools-4.55.8:\n",
      "   --------------------- ------------------  8/15 [fonttools]\n",
      "   --------------------- ------------------  8/15 [fonttools]\n",
      "      Successfully uninstalled fonttools-4.55.8\n",
      "   --------------------- ------------------  8/15 [fonttools]\n",
      "   --------------------- ------------------  8/15 [fonttools]\n",
      "   --------------------- ------------------  8/15 [fonttools]\n",
      "   --------------------- ------------------  8/15 [fonttools]\n",
      "   --------------------- ------------------  8/15 [fonttools]\n",
      "   --------------------- ------------------  8/15 [fonttools]\n",
      "   --------------------- ------------------  8/15 [fonttools]\n",
      "   --------------------- ------------------  8/15 [fonttools]\n",
      "   --------------------- ------------------  8/15 [fonttools]\n",
      "   --------------------- ------------------  8/15 [fonttools]\n",
      "   --------------------- ------------------  8/15 [fonttools]\n",
      "   --------------------- ------------------  8/15 [fonttools]\n",
      "   --------------------- ------------------  8/15 [fonttools]\n",
      "  Attempting uninstall: cycler\n",
      "   --------------------- ------------------  8/15 [fonttools]\n",
      "    Found existing installation: cycler 0.12.1\n",
      "   --------------------- ------------------  8/15 [fonttools]\n",
      "    Uninstalling cycler-0.12.1:\n",
      "   --------------------- ------------------  8/15 [fonttools]\n",
      "      Successfully uninstalled cycler-0.12.1\n",
      "   --------------------- ------------------  8/15 [fonttools]\n",
      "  Attempting uninstall: python-dateutil\n",
      "   --------------------- ------------------  8/15 [fonttools]\n",
      "    Found existing installation: python-dateutil 2.9.0.post0\n",
      "   --------------------- ------------------  8/15 [fonttools]\n",
      "   -------------------------- ------------- 10/15 [python-dateutil]\n",
      "    Uninstalling python-dateutil-2.9.0.post0:\n",
      "   -------------------------- ------------- 10/15 [python-dateutil]\n",
      "      Successfully uninstalled python-dateutil-2.9.0.post0\n",
      "   -------------------------- ------------- 10/15 [python-dateutil]\n",
      "  Attempting uninstall: contourpy\n",
      "   -------------------------- ------------- 10/15 [python-dateutil]\n",
      "    Found existing installation: contourpy 1.3.1\n",
      "   -------------------------- ------------- 10/15 [python-dateutil]\n",
      "    Uninstalling contourpy-1.3.1:\n",
      "   -------------------------- ------------- 10/15 [python-dateutil]\n",
      "   ----------------------------- ---------- 11/15 [contourpy]\n",
      "      Successfully uninstalled contourpy-1.3.1\n",
      "   ----------------------------- ---------- 11/15 [contourpy]\n",
      "  Attempting uninstall: pandas\n",
      "   ----------------------------- ---------- 11/15 [contourpy]\n",
      "    Found existing installation: pandas 2.2.3\n",
      "   ----------------------------- ---------- 11/15 [contourpy]\n",
      "   -------------------------------- ------- 12/15 [pandas]\n",
      "   -------------------------------- ------- 12/15 [pandas]\n",
      "   -------------------------------- ------- 12/15 [pandas]\n",
      "   -------------------------------- ------- 12/15 [pandas]\n",
      "    Uninstalling pandas-2.2.3:\n",
      "   -------------------------------- ------- 12/15 [pandas]\n",
      "      Successfully uninstalled pandas-2.2.3\n",
      "   -------------------------------- ------- 12/15 [pandas]\n",
      "   -------------------------------- ------- 12/15 [pandas]\n",
      "   -------------------------------- ------- 12/15 [pandas]\n",
      "   -------------------------------- ------- 12/15 [pandas]\n",
      "   -------------------------------- ------- 12/15 [pandas]\n",
      "   -------------------------------- ------- 12/15 [pandas]\n",
      "   -------------------------------- ------- 12/15 [pandas]\n",
      "   -------------------------------- ------- 12/15 [pandas]\n",
      "   -------------------------------- ------- 12/15 [pandas]\n",
      "   -------------------------------- ------- 12/15 [pandas]\n",
      "   -------------------------------- ------- 12/15 [pandas]\n",
      "   -------------------------------- ------- 12/15 [pandas]\n",
      "   -------------------------------- ------- 12/15 [pandas]\n",
      "   -------------------------------- ------- 12/15 [pandas]\n",
      "   -------------------------------- ------- 12/15 [pandas]\n",
      "   -------------------------------- ------- 12/15 [pandas]\n",
      "   -------------------------------- ------- 12/15 [pandas]\n",
      "   -------------------------------- ------- 12/15 [pandas]\n",
      "   -------------------------------- ------- 12/15 [pandas]\n",
      "   -------------------------------- ------- 12/15 [pandas]\n",
      "   -------------------------------- ------- 12/15 [pandas]\n",
      "   -------------------------------- ------- 12/15 [pandas]\n",
      "   -------------------------------- ------- 12/15 [pandas]\n",
      "   -------------------------------- ------- 12/15 [pandas]\n",
      "   -------------------------------- ------- 12/15 [pandas]\n",
      "   -------------------------------- ------- 12/15 [pandas]\n",
      "   -------------------------------- ------- 12/15 [pandas]\n",
      "   -------------------------------- ------- 12/15 [pandas]\n",
      "   -------------------------------- ------- 12/15 [pandas]\n",
      "   -------------------------------- ------- 12/15 [pandas]\n",
      "   -------------------------------- ------- 12/15 [pandas]\n",
      "   -------------------------------- ------- 12/15 [pandas]\n",
      "   -------------------------------- ------- 12/15 [pandas]\n",
      "   -------------------------------- ------- 12/15 [pandas]\n",
      "   -------------------------------- ------- 12/15 [pandas]\n",
      "   -------------------------------- ------- 12/15 [pandas]\n",
      "   -------------------------------- ------- 12/15 [pandas]\n",
      "   -------------------------------- ------- 12/15 [pandas]\n",
      "   -------------------------------- ------- 12/15 [pandas]\n",
      "   -------------------------------- ------- 12/15 [pandas]\n",
      "   -------------------------------- ------- 12/15 [pandas]\n",
      "   -------------------------------- ------- 12/15 [pandas]\n",
      "   -------------------------------- ------- 12/15 [pandas]\n",
      "   -------------------------------- ------- 12/15 [pandas]\n",
      "   -------------------------------- ------- 12/15 [pandas]\n",
      "   -------------------------------- ------- 12/15 [pandas]\n",
      "   -------------------------------- ------- 12/15 [pandas]\n",
      "   -------------------------------- ------- 12/15 [pandas]\n",
      "   -------------------------------- ------- 12/15 [pandas]\n",
      "   -------------------------------- ------- 12/15 [pandas]\n",
      "   -------------------------------- ------- 12/15 [pandas]\n",
      "   -------------------------------- ------- 12/15 [pandas]\n",
      "   -------------------------------- ------- 12/15 [pandas]\n",
      "   -------------------------------- ------- 12/15 [pandas]\n",
      "   -------------------------------- ------- 12/15 [pandas]\n",
      "   -------------------------------- ------- 12/15 [pandas]\n",
      "   -------------------------------- ------- 12/15 [pandas]\n",
      "   -------------------------------- ------- 12/15 [pandas]\n",
      "   -------------------------------- ------- 12/15 [pandas]\n",
      "  Attempting uninstall: matplotlib\n",
      "   -------------------------------- ------- 12/15 [pandas]\n",
      "    Found existing installation: matplotlib 3.10.0\n",
      "   -------------------------------- ------- 12/15 [pandas]\n",
      "   ---------------------------------- ----- 13/15 [matplotlib]\n",
      "   ---------------------------------- ----- 13/15 [matplotlib]\n",
      "    Uninstalling matplotlib-3.10.0:\n",
      "   ---------------------------------- ----- 13/15 [matplotlib]\n",
      "   ---------------------------------- ----- 13/15 [matplotlib]\n",
      "   ---------------------------------- ----- 13/15 [matplotlib]\n",
      "   ---------------------------------- ----- 13/15 [matplotlib]\n",
      "   ---------------------------------- ----- 13/15 [matplotlib]\n",
      "      Successfully uninstalled matplotlib-3.10.0\n",
      "   ---------------------------------- ----- 13/15 [matplotlib]\n",
      "   ---------------------------------- ----- 13/15 [matplotlib]\n",
      "   ---------------------------------- ----- 13/15 [matplotlib]\n",
      "   ---------------------------------- ----- 13/15 [matplotlib]\n",
      "   ---------------------------------- ----- 13/15 [matplotlib]\n",
      "   ---------------------------------- ----- 13/15 [matplotlib]\n",
      "   ---------------------------------- ----- 13/15 [matplotlib]\n",
      "   ---------------------------------- ----- 13/15 [matplotlib]\n",
      "   ---------------------------------- ----- 13/15 [matplotlib]\n",
      "   ---------------------------------- ----- 13/15 [matplotlib]\n",
      "   ---------------------------------- ----- 13/15 [matplotlib]\n",
      "   ---------------------------------- ----- 13/15 [matplotlib]\n",
      "   ---------------------------------- ----- 13/15 [matplotlib]\n",
      "   ---------------------------------- ----- 13/15 [matplotlib]\n",
      "   ---------------------------------- ----- 13/15 [matplotlib]\n",
      "   ---------------------------------- ----- 13/15 [matplotlib]\n",
      "   ---------------------------------- ----- 13/15 [matplotlib]\n",
      "   ---------------------------------- ----- 13/15 [matplotlib]\n",
      "   ---------------------------------- ----- 13/15 [matplotlib]\n",
      "   ---------------------------------- ----- 13/15 [matplotlib]\n",
      "   ---------------------------------- ----- 13/15 [matplotlib]\n",
      "   ---------------------------------- ----- 13/15 [matplotlib]\n",
      "  Attempting uninstall: seaborn\n",
      "   ---------------------------------- ----- 13/15 [matplotlib]\n",
      "    Found existing installation: seaborn 0.13.2\n",
      "   ---------------------------------- ----- 13/15 [matplotlib]\n",
      "    Uninstalling seaborn-0.13.2:\n",
      "   ---------------------------------- ----- 13/15 [matplotlib]\n",
      "      Successfully uninstalled seaborn-0.13.2\n",
      "   ---------------------------------- ----- 13/15 [matplotlib]\n",
      "   ------------------------------------- -- 14/15 [seaborn]\n",
      "   ------------------------------------- -- 14/15 [seaborn]\n",
      "   ---------------------------------------- 15/15 [seaborn]\n",
      "\n",
      "Successfully installed contourpy-1.3.2 cycler-0.12.1 fonttools-4.58.5 kiwisolver-1.4.8 matplotlib-3.10.3 numpy-2.3.1 packaging-25.0 pandas-2.3.0 pillow-11.3.0 pyparsing-3.2.3 python-dateutil-2.9.0.post0 pytz-2025.2 seaborn-0.13.2 six-1.17.0 tzdata-2025.2\n"
     ]
    }
   ],
   "source": [
    "!pip install matplotlib seaborn --force-reinstall"
   ]
  },
  {
   "cell_type": "code",
   "execution_count": null,
   "id": "10f83894",
   "metadata": {},
   "outputs": [],
   "source": []
  }
 ],
 "metadata": {
  "kernelspec": {
   "display_name": "Python 3",
   "language": "python",
   "name": "python3"
  },
  "language_info": {
   "codemirror_mode": {
    "name": "ipython",
    "version": 3
   },
   "file_extension": ".py",
   "mimetype": "text/x-python",
   "name": "python",
   "nbconvert_exporter": "python",
   "pygments_lexer": "ipython3",
   "version": "3.11.4"
  }
 },
 "nbformat": 4,
 "nbformat_minor": 5
}
